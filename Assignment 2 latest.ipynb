{
 "cells": [
  {
   "cell_type": "code",
   "execution_count": 1,
   "metadata": {
    "collapsed": true
   },
   "outputs": [],
   "source": [
    "import pandas as pd\n",
    "import numpy as np\n",
    "import math\n",
    "from nltk.stem.snowball import SnowballStemmer\n",
    "from itertools import islice\n",
    "from sklearn.feature_extraction.text import CountVectorizer\n",
    "from sklearn.feature_extraction.text import TfidfTransformer\n",
    "from collections import defaultdict\n",
    "from sklearn.svm import LinearSVC"
   ]
  },
  {
   "cell_type": "code",
   "execution_count": 2,
   "metadata": {
    "collapsed": true
   },
   "outputs": [],
   "source": [
    "data = pd.read_csv(\"lyrics.csv\")"
   ]
  },
  {
   "cell_type": "code",
   "execution_count": 3,
   "metadata": {
    "collapsed": true
   },
   "outputs": [],
   "source": [
    "data = data.replace({'[iI][Nn][sS][Tt][Rr][Uu][Mm][Ee][Nn][Tt]' : math.nan}, regex=True)\n",
    "data = data.replace({'instrument': math.nan})\n",
    "data = data.replace({'Instrument' : math.nan})\n",
    "data = data.dropna()\n",
    "data = data[data.genre != \"Not Available\"]\n",
    "data = data.replace({'\\n': ' '}, regex=True)"
   ]
  },
  {
   "cell_type": "code",
   "execution_count": 4,
   "metadata": {},
   "outputs": [
    {
     "data": {
      "text/plain": [
       "237769"
      ]
     },
     "execution_count": 4,
     "metadata": {},
     "output_type": "execute_result"
    }
   ],
   "source": [
    "len(data)"
   ]
  },
  {
   "cell_type": "code",
   "execution_count": 5,
   "metadata": {},
   "outputs": [
    {
     "data": {
      "text/html": [
       "<div>\n",
       "<style>\n",
       "    .dataframe thead tr:only-child th {\n",
       "        text-align: right;\n",
       "    }\n",
       "\n",
       "    .dataframe thead th {\n",
       "        text-align: left;\n",
       "    }\n",
       "\n",
       "    .dataframe tbody tr th {\n",
       "        vertical-align: top;\n",
       "    }\n",
       "</style>\n",
       "<table border=\"1\" class=\"dataframe\">\n",
       "  <thead>\n",
       "    <tr style=\"text-align: right;\">\n",
       "      <th></th>\n",
       "      <th>index</th>\n",
       "      <th>song</th>\n",
       "      <th>year</th>\n",
       "      <th>artist</th>\n",
       "      <th>genre</th>\n",
       "      <th>lyrics</th>\n",
       "    </tr>\n",
       "  </thead>\n",
       "  <tbody>\n",
       "    <tr>\n",
       "      <th>0</th>\n",
       "      <td>0</td>\n",
       "      <td>ego-remix</td>\n",
       "      <td>2009</td>\n",
       "      <td>beyonce-knowles</td>\n",
       "      <td>Pop</td>\n",
       "      <td>Oh baby, how you doing? You know I'm gonna cut...</td>\n",
       "    </tr>\n",
       "    <tr>\n",
       "      <th>1</th>\n",
       "      <td>1</td>\n",
       "      <td>then-tell-me</td>\n",
       "      <td>2009</td>\n",
       "      <td>beyonce-knowles</td>\n",
       "      <td>Pop</td>\n",
       "      <td>playin' everything so easy, it's like you seem...</td>\n",
       "    </tr>\n",
       "    <tr>\n",
       "      <th>2</th>\n",
       "      <td>2</td>\n",
       "      <td>honesty</td>\n",
       "      <td>2009</td>\n",
       "      <td>beyonce-knowles</td>\n",
       "      <td>Pop</td>\n",
       "      <td>If you search For tenderness It isn't hard to ...</td>\n",
       "    </tr>\n",
       "    <tr>\n",
       "      <th>3</th>\n",
       "      <td>3</td>\n",
       "      <td>you-are-my-rock</td>\n",
       "      <td>2009</td>\n",
       "      <td>beyonce-knowles</td>\n",
       "      <td>Pop</td>\n",
       "      <td>Oh oh oh I, oh oh oh I [Verse 1:] If I wrote a...</td>\n",
       "    </tr>\n",
       "    <tr>\n",
       "      <th>4</th>\n",
       "      <td>4</td>\n",
       "      <td>black-culture</td>\n",
       "      <td>2009</td>\n",
       "      <td>beyonce-knowles</td>\n",
       "      <td>Pop</td>\n",
       "      <td>Party the people, the people the party it's po...</td>\n",
       "    </tr>\n",
       "  </tbody>\n",
       "</table>\n",
       "</div>"
      ],
      "text/plain": [
       "   index             song  year           artist genre  \\\n",
       "0      0        ego-remix  2009  beyonce-knowles   Pop   \n",
       "1      1     then-tell-me  2009  beyonce-knowles   Pop   \n",
       "2      2          honesty  2009  beyonce-knowles   Pop   \n",
       "3      3  you-are-my-rock  2009  beyonce-knowles   Pop   \n",
       "4      4    black-culture  2009  beyonce-knowles   Pop   \n",
       "\n",
       "                                              lyrics  \n",
       "0  Oh baby, how you doing? You know I'm gonna cut...  \n",
       "1  playin' everything so easy, it's like you seem...  \n",
       "2  If you search For tenderness It isn't hard to ...  \n",
       "3  Oh oh oh I, oh oh oh I [Verse 1:] If I wrote a...  \n",
       "4  Party the people, the people the party it's po...  "
      ]
     },
     "execution_count": 5,
     "metadata": {},
     "output_type": "execute_result"
    }
   ],
   "source": [
    "data = data.loc[(data['genre'] == 'Pop') | (data['genre'] == 'Rock') | (data['genre'] == 'Hip-Hop') | (data['genre'] == 'Metal') | (data['genre'] == 'Country')]\n",
    "#x = training_genre_lyrics.loc[training_genre_lyrics['genre'] == 'Jazz']\n",
    "len(data)\n",
    "data.head()"
   ]
  },
  {
   "cell_type": "code",
   "execution_count": 6,
   "metadata": {},
   "outputs": [],
   "source": [
    "data_pop = data.loc[(data['genre'] == 'Pop')]\n",
    "data_rock = data.loc[(data['genre'] == 'Rock')]\n",
    "data_hiphop = data.loc[(data['genre'] == \"Hip-Hop\")]\n",
    "data_metal = data.loc[(data['genre']== \"Metal\")]\n",
    "data_country = data.loc[(data['genre'] == \"Country\")]\n",
    "\n",
    "\n",
    "def get_sample(num_each):\n",
    "    pop_df = data_pop.sample(n = num_each, replace = True)\n",
    "    rock_df = (data_rock.sample(n = num_each, replace=True))\n",
    "    hiphop_df = (data_hiphop.sample(n = num_each, replace=True))\n",
    "    metal_df = (data_metal.sample(n = num_each, replace=True))\n",
    "    country_df = (data_country.sample(n = num_each, replace=True))\n",
    "    ret_df = pd.concat([pop_df, rock_df, hiphop_df, metal_df, country_df])\n",
    "    ret_df = ret_df.sample(frac=1)\n",
    "    return ret_df\n",
    "\n",
    "training_set = get_sample(10000)\n",
    "validation_set = get_sample(10000)\n",
    "test_set = get_sample(10000)\n",
    "\n",
    "#training_50k = data.sample(n=50000, replace=True)\n",
    "#validation_50k = data.sample(n=50000, replace=True)\n",
    "#testing_50k = data.sample(n=50000, replace=True)\n",
    "\n"
   ]
  },
  {
   "cell_type": "code",
   "execution_count": 8,
   "metadata": {},
   "outputs": [],
   "source": [
    "#training_test['genre'].value_counts()"
   ]
  },
  {
   "cell_type": "code",
   "execution_count": 9,
   "metadata": {},
   "outputs": [],
   "source": [
    "# Filter just genre and lyrics columns\n",
    "training_genre_lyrics = training_set.filter([ 'genre', 'lyrics'])\n",
    "validation_genre_lyrics = validation_set.filter(['genre', 'lyrics'])\n",
    "testing_genre_lyrics = test_set.filter(['genre', 'lyrics'])"
   ]
  },
  {
   "cell_type": "code",
   "execution_count": 10,
   "metadata": {},
   "outputs": [
    {
     "name": "stdout",
     "output_type": "stream",
     "text": [
      "10000\n"
     ]
    }
   ],
   "source": [
    "#goes thru training set and append genre pop's lyrics\n",
    "pop_lyrics = []\n",
    "for x in training_genre_lyrics.iterrows():\n",
    "    if x[1][0] == 'Pop':\n",
    "        pop_lyrics.append(x[1][1])\n",
    "pop_lyrics = pd.DataFrame({\"ly\": pop_lyrics})\n",
    "print (len(pop_lyrics))"
   ]
  },
  {
   "cell_type": "code",
   "execution_count": 11,
   "metadata": {},
   "outputs": [
    {
     "name": "stdout",
     "output_type": "stream",
     "text": [
      "10000\n"
     ]
    }
   ],
   "source": [
    "rock_lyrics = []\n",
    "for x in training_genre_lyrics.iterrows():\n",
    "    if x[1][0] == 'Rock':\n",
    "        rock_lyrics.append(x[1][1])\n",
    "print (len(rock_lyrics))\n",
    "rock_lyrics = pd.DataFrame({\"ly\": rock_lyrics})"
   ]
  },
  {
   "cell_type": "code",
   "execution_count": 12,
   "metadata": {},
   "outputs": [
    {
     "name": "stdout",
     "output_type": "stream",
     "text": [
      "10000\n"
     ]
    }
   ],
   "source": [
    "hiphop_lyrics = []\n",
    "for x in training_genre_lyrics.iterrows():\n",
    "    if x[1][0] == 'Hip-Hop':\n",
    "        hiphop_lyrics.append(x[1][1])\n",
    "hiphop_lyrics = pd.DataFrame({\"ly\": hiphop_lyrics})\n",
    "print (len(hiphop_lyrics))"
   ]
  },
  {
   "cell_type": "code",
   "execution_count": 13,
   "metadata": {},
   "outputs": [
    {
     "name": "stdout",
     "output_type": "stream",
     "text": [
      "10000\n"
     ]
    }
   ],
   "source": [
    "metal_lyrics = []\n",
    "for x in training_genre_lyrics.iterrows():\n",
    "    if x[1][0] == 'Metal':\n",
    "        metal_lyrics.append(x[1][1])\n",
    "metal_lyrics = pd.DataFrame({\"ly\": metal_lyrics})\n",
    "print (len(metal_lyrics))"
   ]
  },
  {
   "cell_type": "code",
   "execution_count": 14,
   "metadata": {},
   "outputs": [
    {
     "name": "stdout",
     "output_type": "stream",
     "text": [
      "10000\n"
     ]
    }
   ],
   "source": [
    "country_lyrics = []\n",
    "for x in training_genre_lyrics.iterrows():\n",
    "    if x[1][0] == 'Country':\n",
    "        country_lyrics.append(x[1][1])\n",
    "country_lyrics = pd.DataFrame({\"ly\": country_lyrics})\n",
    "print (len(country_lyrics))"
   ]
  },
  {
   "cell_type": "code",
   "execution_count": 96,
   "metadata": {
    "collapsed": true
   },
   "outputs": [],
   "source": [
    "ENGLISH_STOP_WORDS = frozenset([\n",
    "    \"a\", \"about\", \"above\", \"across\", \"after\", \"afterwards\", \"again\", \"against\",\n",
    "    \"all\", \"almost\", \"alone\", \"along\", \"already\", \"also\", \"although\", \"always\",\n",
    "    \"am\", \"among\", \"amongst\", \"amoungst\", \"amount\", \"an\", \"and\", \"another\",\n",
    "    \"any\", \"anyhow\", \"anyone\", \"anything\", \"anyway\", \"anywhere\", \"are\",\n",
    "    \"around\", \"as\", \"at\", \"back\", \"be\", \"became\", \"because\", \"become\",\n",
    "    \"becomes\", \"becoming\", \"been\", \"before\", \"beforehand\", \"behind\", \"being\",\n",
    "    \"below\", \"beside\", \"besides\", \"between\", \"beyond\", \"bill\", \"both\",\n",
    "    \"bottom\", \"but\", \"by\", \"call\", \"can\", \"cannot\", \"cant\", \"co\", \"con\",\n",
    "    \"could\", \"couldnt\", \"cry\", \"de\", \"describe\", \"detail\", \"do\", \"done\",\n",
    "    \"down\", \"due\", \"during\", \"each\", \"eg\", \"eight\", \"either\", \"eleven\", \"else\",\n",
    "    \"elsewhere\", \"empty\", \"enough\", \"etc\", \"even\", \"ever\", \"every\", \"everyone\",\n",
    "    \"everything\", \"everywhere\", \"except\", \"few\", \"fifteen\", \"fifty\", \"fill\",\n",
    "    \"find\", \"fire\", \"first\", \"five\", \"for\", \"former\", \"formerly\", \"forty\",\n",
    "    \"found\", \"four\", \"from\", \"front\", \"full\", \"further\", \"get\", \"give\", \"go\",\n",
    "    \"had\", \"has\", \"hasnt\", \"have\", \"he\", \"hence\", \"her\", \"here\", \"hereafter\",\n",
    "    \"hereby\", \"herein\", \"hereupon\", \"hers\", \"herself\", \"him\", \"himself\", \"his\",\n",
    "    \"how\", \"however\", \"hundred\", \"i\", \"ie\", \"if\", \"in\", \"inc\", \"indeed\",\n",
    "    \"interest\", \"into\", \"is\", \"it\", \"its\", \"itself\", \"keep\", \"last\", \"latter\",\n",
    "    \"latterly\", \"least\", \"less\", \"ltd\", \"made\", \"many\", \"may\", \"me\",\n",
    "    \"meanwhile\", \"might\", \"mill\", \"mine\", \"more\", \"moreover\", \"most\", \"mostly\",\n",
    "    \"move\", \"much\", \"must\", \"my\", \"myself\", \"name\", \"namely\", \"neither\",\n",
    "    \"never\", \"nevertheless\", \"next\", \"nine\", \"no\", \"nobody\", \"none\", \"noone\",\n",
    "    \"nor\", \"not\", \"nothing\", \"now\", \"nowhere\", \"of\", \"off\", \"often\", \"on\",\n",
    "    \"once\", \"one\", \"only\", \"onto\", \"or\", \"other\", \"others\", \"otherwise\", \"our\",\n",
    "    \"ours\", \"ourselves\", \"out\", \"over\", \"own\", \"part\", \"per\", \"perhaps\",\n",
    "    \"please\", \"put\", \"rather\", \"re\", \"same\", \"see\", \"seem\", \"seemed\",\n",
    "    \"seeming\", \"seems\", \"serious\", \"several\", \"she\", \"should\", \"show\", \"side\",\n",
    "    \"since\", \"sincere\", \"six\", \"sixty\", \"so\", \"some\", \"somehow\", \"someone\",\n",
    "    \"something\", \"sometime\", \"sometimes\", \"somewhere\", \"still\", \"such\",\n",
    "    \"system\", \"take\", \"ten\", \"than\", \"that\", \"the\", \"their\", \"them\",\n",
    "    \"themselves\", \"then\", \"thence\", \"there\", \"thereafter\", \"thereby\",\n",
    "    \"therefore\", \"therein\", \"thereupon\", \"these\", \"they\", \"thick\", \"thin\",\n",
    "    \"third\", \"this\", \"those\", \"though\", \"three\", \"through\", \"throughout\",\n",
    "    \"thru\", \"thus\", \"to\", \"together\", \"too\", \"top\", \"toward\", \"towards\",\n",
    "    \"twelve\", \"twenty\", \"two\", \"un\", \"under\", \"until\", \"up\", \"upon\", \"us\",\n",
    "    \"very\", \"via\", \"was\", \"we\", \"well\", \"were\", \"what\", \"whatever\", \"when\",\n",
    "    \"whence\", \"whenever\", \"where\", \"whereafter\", \"whereas\", \"whereby\",\n",
    "    \"wherein\", \"whereupon\", \"wherever\", \"whether\", \"which\", \"while\", \"whither\",\n",
    "    \"who\", \"whoever\", \"whole\", \"whom\", \"whose\", \"why\", \"will\", \"with\",\n",
    "    \"within\", \"without\", \"would\", \"yet\", \"you\", \"your\", \"yours\", \"yourself\",\n",
    "    \"yourselves\"])"
   ]
  },
  {
   "cell_type": "code",
   "execution_count": 97,
   "metadata": {
    "collapsed": true
   },
   "outputs": [],
   "source": [
    "# Takes a dataframe/list containing lyrics and returns a tuple with the terms and weights \n",
    "def vectorize_feature(genre_lyrics, num_words):\n",
    "    stemmer = SnowballStemmer(\"english\")\n",
    "    genre_lyrics['stemmed'] = genre_lyrics.ly.map(lambda x: ' '.join([stemmer.stem(y) for y in x.split(' ')]))\n",
    "    #genre_lyrics.stemmed.head()\n",
    "    \n",
    "    cvec = CountVectorizer(min_df=1,max_df= 0.5, ngram_range=(1,3), stop_words= ENGLISH_STOP_WORDS)\n",
    "    cvec.fit(genre_lyrics.stemmed)\n",
    "    \n",
    "    # -- use for debugging -- x = list(islice(cvec.vocabulary_.items(), 20))\n",
    "    \n",
    "    cvec_counts = cvec.transform(genre_lyrics.stemmed)\n",
    "    \n",
    "    transformer = TfidfTransformer()\n",
    "    transformed_weights = transformer.fit_transform(cvec_counts)\n",
    "    \n",
    "    weights = np.asarray(transformed_weights.mean(axis=0)).ravel().tolist()\n",
    "    weights_df = pd.DataFrame({'term': cvec.get_feature_names(), 'weight': weights})\n",
    "    weights_df = weights_df.sort_values(by='weight', ascending=False)[:num_words]\n",
    "    \n",
    "    #term_weight_list = []\n",
    "    term_weight_dict = defaultdict(int)\n",
    "    for _, row in weights_df.iterrows():\n",
    "        # Returns a list of (term, weight) tuples\n",
    "        #term_phrase_list.append((row['term'], row['weight']))\n",
    "        term_weight_dict[row['term']] = row['weight']\n",
    "    \n",
    "    # return term_weight_list\n",
    "    return term_weight_dict"
   ]
  },
  {
   "cell_type": "code",
   "execution_count": null,
   "metadata": {
    "collapsed": true
   },
   "outputs": [],
   "source": []
  },
  {
   "cell_type": "code",
   "execution_count": 98,
   "metadata": {},
   "outputs": [],
   "source": [
    "rock_dicts = vectorize_feature(rock_lyrics, 1000)\n",
    "pop_dicts = vectorize_feature(pop_lyrics, 1000)\n",
    "hiphop_dicts = vectorize_feature(hiphop_lyrics, 1000)\n",
    "metal_dicts = vectorize_feature(metal_lyrics, 1000)\n",
    "country_dicts = vectorize_feature(country_lyrics, 1000)"
   ]
  },
  {
   "cell_type": "code",
   "execution_count": 99,
   "metadata": {},
   "outputs": [
    {
     "name": "stdout",
     "output_type": "stream",
     "text": [
      "1000\n"
     ]
    }
   ],
   "source": [
    "print (len(rock_dicts))"
   ]
  },
  {
   "cell_type": "code",
   "execution_count": 95,
   "metadata": {},
   "outputs": [],
   "source": [
    "# counter = 0\n",
    "# rock = list(rock_dicts.keys())\n",
    "# pop = list(pop_dicts.keys())\n",
    "# for i in range(1000):\n",
    "#     if rock[i] == pop[i]:\n",
    "#         counter += 1"
   ]
  },
  {
   "cell_type": "code",
   "execution_count": 100,
   "metadata": {},
   "outputs": [],
   "source": [
    "# Given new lyrics, return list of sums of weights\n",
    "def find_weights(lyrics):\n",
    "    weight_list = [0]*5\n",
    "    stemmer = SnowballStemmer(\"english\")\n",
    "    stemmed_lyrics = ' '.join([stemmer.stem(y) for y in lyrics.split(' ')])\n",
    "    for i in stemmed_lyrics.split():\n",
    "        weight_list[0] += rock_dicts[i]\n",
    "        weight_list[1] += pop_dicts[i]\n",
    "        weight_list[2] += hiphop_dicts[i]\n",
    "        weight_list[3] += metal_dicts[i]\n",
    "        weight_list[4] += country_dicts[i]\n",
    "    return weight_list.index(max (weight_list))"
   ]
  },
  {
   "cell_type": "code",
   "execution_count": 72,
   "metadata": {},
   "outputs": [],
   "source": [
    "#find_weights(pop_lyrics.ly[2])"
   ]
  },
  {
   "cell_type": "code",
   "execution_count": 101,
   "metadata": {
    "collapsed": true
   },
   "outputs": [],
   "source": [
    "genre = {\n",
    "    'Rock': 0,\n",
    "    'Pop' : 1,\n",
    "    'Hip-Hop' : 2,\n",
    "    'Metal' : 3,\n",
    "    'Country' : 4,\n",
    "}"
   ]
  },
  {
   "cell_type": "code",
   "execution_count": 102,
   "metadata": {},
   "outputs": [],
   "source": [
    "x_train = [find_weights(x) for x in training_genre_lyrics.lyrics]\n",
    "#print (x_train)"
   ]
  },
  {
   "cell_type": "code",
   "execution_count": 103,
   "metadata": {
    "collapsed": true
   },
   "outputs": [],
   "source": [
    "y_train = [genre[x] for x in training_genre_lyrics.genre]"
   ]
  },
  {
   "cell_type": "code",
   "execution_count": 104,
   "metadata": {},
   "outputs": [
    {
     "name": "stdout",
     "output_type": "stream",
     "text": [
      "0.41436\n"
     ]
    }
   ],
   "source": [
    "acc = [(x == y) for (x,y) in zip(x_train, y_train)]\n",
    "# acc = sum(acc) * 1.0/50000\n",
    "# print (acc)\n",
    "counter = 0\n",
    "for i in range(len(acc)):\n",
    "    if acc[i] == True:\n",
    "        counter += 1\n",
    "print (counter/50000)"
   ]
  },
  {
   "cell_type": "code",
   "execution_count": 105,
   "metadata": {
    "collapsed": true
   },
   "outputs": [],
   "source": [
    "x_valid = [find_weights(x) for x in validation_genre_lyrics.lyrics]\n",
    "y_valid = [genre[x] for x in validation_genre_lyrics.genre]"
   ]
  },
  {
   "cell_type": "code",
   "execution_count": 106,
   "metadata": {},
   "outputs": [
    {
     "name": "stdout",
     "output_type": "stream",
     "text": [
      "C = 0.01: validation accuracy = 0.28678\n",
      "C = 0.1: validation accuracy = 0.28678\n",
      "C = 1: validation accuracy = 0.28678\n",
      "C = 10: validation accuracy = 0.28678\n",
      "C = 100: validation accuracy = 0.24404\n"
     ]
    }
   ],
   "source": [
    "from sklearn.svm import LinearSVC\n",
    "from sklearn import svm\n",
    "x_train = np.asarray(x_train).reshape(-1, 1)\n",
    "x_valid = np.asarray(x_valid).reshape(-1, 1)\n",
    "bestAcc = 0\n",
    "bestCLF = None\n",
    "for c in 0.01, 0.1, 1, 10, 100:\n",
    "  clf = svm.LinearSVC(C = c) # Linear SVM is faster\n",
    "  clf.fit(x_train, y_train)\n",
    "  predictions = [int(x) for x in clf.predict(x_valid)]\n",
    "  acc = [(x == y) for (x,y) in zip(predictions, y_valid)]\n",
    "  acc = sum(acc) * 1.0 / len(acc)\n",
    "  if acc > bestAcc:\n",
    "    bestAcc = acc\n",
    "    bestCLF = clf\n",
    "  print(\"C = \" + str(c) + \": validation accuracy = \" + str(acc))"
   ]
  },
  {
   "cell_type": "code",
   "execution_count": null,
   "metadata": {
    "collapsed": true
   },
   "outputs": [],
   "source": []
  }
 ],
 "metadata": {
  "kernelspec": {
   "display_name": "Python 3",
   "language": "python",
   "name": "python3"
  },
  "language_info": {
   "codemirror_mode": {
    "name": "ipython",
    "version": 3
   },
   "file_extension": ".py",
   "mimetype": "text/x-python",
   "name": "python",
   "nbconvert_exporter": "python",
   "pygments_lexer": "ipython3",
   "version": "3.6.3"
  }
 },
 "nbformat": 4,
 "nbformat_minor": 2
}

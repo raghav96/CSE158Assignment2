{
 "cells": [
  {
   "cell_type": "code",
   "execution_count": 1,
   "metadata": {
    "collapsed": true
   },
   "outputs": [],
   "source": [
    "import pandas as pd\n",
    "import numpy as np\n",
    "import math\n",
    "from nltk.stem.snowball import SnowballStemmer\n",
    "from itertools import islice\n",
    "from sklearn.feature_extraction.text import CountVectorizer\n",
    "from sklearn.feature_extraction.text import TfidfTransformer\n",
    "from collections import defaultdict\n",
    "from sklearn.svm import LinearSVC\n",
    "from sklearn.utils import shuffle"
   ]
  },
  {
   "cell_type": "code",
   "execution_count": 2,
   "metadata": {
    "collapsed": true
   },
   "outputs": [],
   "source": [
    "data = pd.read_csv(\"lyrics.csv\")"
   ]
  },
  {
   "cell_type": "code",
   "execution_count": 3,
   "metadata": {
    "collapsed": true
   },
   "outputs": [],
   "source": [
    "data = data.replace({'[iI][Nn][sS][Tt][Rr][Uu][Mm][Ee][Nn][Tt]' : math.nan}, regex=True)\n",
    "data = data.replace({'instrument': math.nan})\n",
    "data = data.replace({'Instrument' : math.nan})\n",
    "data = data.dropna()\n",
    "data = data[data.genre != \"Not Available\"]\n",
    "data = data.replace({'\\n': ' '}, regex=True)"
   ]
  },
  {
   "cell_type": "code",
   "execution_count": 4,
   "metadata": {},
   "outputs": [
    {
     "data": {
      "text/plain": [
       "237769"
      ]
     },
     "execution_count": 4,
     "metadata": {},
     "output_type": "execute_result"
    }
   ],
   "source": [
    "len(data)"
   ]
  },
  {
   "cell_type": "code",
   "execution_count": 5,
   "metadata": {},
   "outputs": [
    {
     "data": {
      "text/html": [
       "<div>\n",
       "<style>\n",
       "    .dataframe thead tr:only-child th {\n",
       "        text-align: right;\n",
       "    }\n",
       "\n",
       "    .dataframe thead th {\n",
       "        text-align: left;\n",
       "    }\n",
       "\n",
       "    .dataframe tbody tr th {\n",
       "        vertical-align: top;\n",
       "    }\n",
       "</style>\n",
       "<table border=\"1\" class=\"dataframe\">\n",
       "  <thead>\n",
       "    <tr style=\"text-align: right;\">\n",
       "      <th></th>\n",
       "      <th>index</th>\n",
       "      <th>song</th>\n",
       "      <th>year</th>\n",
       "      <th>artist</th>\n",
       "      <th>genre</th>\n",
       "      <th>lyrics</th>\n",
       "    </tr>\n",
       "  </thead>\n",
       "  <tbody>\n",
       "    <tr>\n",
       "      <th>0</th>\n",
       "      <td>0</td>\n",
       "      <td>ego-remix</td>\n",
       "      <td>2009</td>\n",
       "      <td>beyonce-knowles</td>\n",
       "      <td>Pop</td>\n",
       "      <td>Oh baby, how you doing? You know I'm gonna cut...</td>\n",
       "    </tr>\n",
       "    <tr>\n",
       "      <th>1</th>\n",
       "      <td>1</td>\n",
       "      <td>then-tell-me</td>\n",
       "      <td>2009</td>\n",
       "      <td>beyonce-knowles</td>\n",
       "      <td>Pop</td>\n",
       "      <td>playin' everything so easy, it's like you seem...</td>\n",
       "    </tr>\n",
       "    <tr>\n",
       "      <th>2</th>\n",
       "      <td>2</td>\n",
       "      <td>honesty</td>\n",
       "      <td>2009</td>\n",
       "      <td>beyonce-knowles</td>\n",
       "      <td>Pop</td>\n",
       "      <td>If you search For tenderness It isn't hard to ...</td>\n",
       "    </tr>\n",
       "    <tr>\n",
       "      <th>3</th>\n",
       "      <td>3</td>\n",
       "      <td>you-are-my-rock</td>\n",
       "      <td>2009</td>\n",
       "      <td>beyonce-knowles</td>\n",
       "      <td>Pop</td>\n",
       "      <td>Oh oh oh I, oh oh oh I [Verse 1:] If I wrote a...</td>\n",
       "    </tr>\n",
       "    <tr>\n",
       "      <th>4</th>\n",
       "      <td>4</td>\n",
       "      <td>black-culture</td>\n",
       "      <td>2009</td>\n",
       "      <td>beyonce-knowles</td>\n",
       "      <td>Pop</td>\n",
       "      <td>Party the people, the people the party it's po...</td>\n",
       "    </tr>\n",
       "  </tbody>\n",
       "</table>\n",
       "</div>"
      ],
      "text/plain": [
       "   index             song  year           artist genre  \\\n",
       "0      0        ego-remix  2009  beyonce-knowles   Pop   \n",
       "1      1     then-tell-me  2009  beyonce-knowles   Pop   \n",
       "2      2          honesty  2009  beyonce-knowles   Pop   \n",
       "3      3  you-are-my-rock  2009  beyonce-knowles   Pop   \n",
       "4      4    black-culture  2009  beyonce-knowles   Pop   \n",
       "\n",
       "                                              lyrics  \n",
       "0  Oh baby, how you doing? You know I'm gonna cut...  \n",
       "1  playin' everything so easy, it's like you seem...  \n",
       "2  If you search For tenderness It isn't hard to ...  \n",
       "3  Oh oh oh I, oh oh oh I [Verse 1:] If I wrote a...  \n",
       "4  Party the people, the people the party it's po...  "
      ]
     },
     "execution_count": 5,
     "metadata": {},
     "output_type": "execute_result"
    }
   ],
   "source": [
    "data = data.loc[(data['genre'] == 'Pop') | (data['genre'] == 'Rock') | (data['genre'] == 'Hip-Hop') | (data['genre'] == 'Metal') | (data['genre'] == 'Country')]\n",
    "#x = training_genre_lyrics.loc[training_genre_lyrics['genre'] == 'Jazz']\n",
    "len(data)\n",
    "data.head()"
   ]
  },
  {
   "cell_type": "code",
   "execution_count": 6,
   "metadata": {},
   "outputs": [],
   "source": [
    "data_pop = data.loc[(data['genre'] == 'Pop')]\n",
    "data_rock = data.loc[(data['genre'] == 'Rock')]\n",
    "data_hiphop = data.loc[(data['genre'] == \"Hip-Hop\")]\n",
    "data_metal = data.loc[(data['genre']== \"Metal\")]\n",
    "data_country = data.loc[(data['genre'] == \"Country\")]\n",
    "\n",
    "\n",
    "def get_sample(num_each):\n",
    "    pop_df = data_pop.sample(n = num_each, replace = True)\n",
    "    rock_df = (data_rock.sample(n = num_each, replace=True))\n",
    "    hiphop_df = (data_hiphop.sample(n = num_each, replace=True))\n",
    "    metal_df = (data_metal.sample(n = num_each, replace=True))\n",
    "    country_df = (data_country.sample(n = num_each, replace=True))\n",
    "    ret_df = pd.concat([pop_df, rock_df, hiphop_df, metal_df, country_df])\n",
    "    ret_df = ret_df.sample(frac=1)\n",
    "    return ret_df\n",
    "\n",
    "training_set = get_sample(10000)\n",
    "validation_set = get_sample(10000)\n",
    "test_set = get_sample(10000)\n",
    "\n",
    "#training_50k = data.sample(n=50000, replace=True)\n",
    "#validation_50k = data.sample(n=50000, replace=True)\n",
    "#testing_50k = data.sample(n=50000, replace=True)\n",
    "\n"
   ]
  },
  {
   "cell_type": "code",
   "execution_count": 7,
   "metadata": {},
   "outputs": [],
   "source": [
    "#training_test['genre'].value_counts()\n"
   ]
  },
  {
   "cell_type": "code",
   "execution_count": 8,
   "metadata": {},
   "outputs": [],
   "source": [
    "# Filter just genre and lyrics columns\n",
    "training_genre_lyrics = training_set.filter(['genre', 'lyrics'])\n",
    "training_artist = training_set.filter(['genre', 'artist'])\n",
    "validation_genre_lyrics = validation_set.filter(['genre', 'lyrics'])\n",
    "validation_artist = validation_set.filter(['genre','artist'])\n",
    "testing_genre_lyrics = test_set.filter(['genre', 'lyrics'])\n",
    "testing_artist = test_set.filter(['genre','lyrics'])"
   ]
  },
  {
   "cell_type": "code",
   "execution_count": 9,
   "metadata": {},
   "outputs": [
    {
     "name": "stdout",
     "output_type": "stream",
     "text": [
      "          genre                                             lyrics\n",
      "270339     Rock  I have two eye gut I cannot see I have a heart...\n",
      "236218     Rock  There's the strangest excitement today If you'...\n",
      "328452     Rock  Well I saw the preacher But I won't be there o...\n",
      "152012  Hip-Hop  I know, I know, I know, I know, I know, I know...\n",
      "337603     Rock  Police sirens break the air They're on their w...\n",
      "149462     Rock  I give her all my love That's all I do And if ...\n",
      "33712   Hip-Hop  Dum. Da-dum, dum, da-dum, dum, dum, dum, dum. ...\n",
      "336131    Metal  So before I'm gonna try Your picture takes my ...\n",
      "133426      Pop  I've been thinking about it lately, Tired of b...\n",
      "44924       Pop  All of the black and white All of the contours...\n",
      "88849       Pop  Do you know the way to San Jose? I've been awa...\n",
      "361175  Hip-Hop  I wanna show you how I feel, don't hold back, ...\n",
      "37033   Country  When a woman cries, when a woman cries She can...\n",
      "252955  Country  Like that old Titanic Running full steam ahead...\n",
      "245607  Country  I don't believe in superstars, Organic food an...\n",
      "178638      Pop  Crashing, hit a wall Right now I need a miracl...\n",
      "159735  Country  Only a fool could keep on loving you If it's c...\n",
      "213687  Country  Got lucky once when I didn't know enough to le...\n",
      "146993     Rock  The time has come to set aside The stories we'...\n",
      "21144       Pop  In the darkness before the dawn In the swirlin...\n",
      "82505     Metal  Her gentle hand in his Revelation serves as bl...\n",
      "308990  Hip-Hop  A nigga tried to test my nuts Clown thought I ...\n",
      "347148  Country  They're gonna put me in the movies They're gon...\n",
      "111057    Metal  Rainy nights can easily go The morning sun, a ...\n",
      "124492    Metal  Finally, dying day come and gone, Inside your ...\n",
      "82509     Metal  All is gone And my soul screams sorrow All is ...\n",
      "154832  Hip-Hop  [AZ: ] Yeah...Where's it at? From Coke to Dope...\n",
      "148125  Hip-Hop  Gimme some more slack on this rope I run your ...\n",
      "252938  Country  First kiss I thought I died and gone to heaven...\n",
      "170023    Metal  all my lovers turn to stone relics of hope in ...\n",
      "...         ...                                                ...\n",
      "166116     Rock  Deeper and deeper until I drown Hard going und...\n",
      "83067   Hip-Hop  [Verse 1] Bones droppin outta sector unknown l...\n",
      "345119    Metal  El norte quiere nuestro cosecha de oro Geritos...\n",
      "159812  Country  Please release me, let me go 'Cause I don't lo...\n",
      "165608      Pop  Ooh I can show you the world Shining, shimmeri...\n",
      "182869     Rock  nagakatta yo mou sukoshi de kogoesou de me o t...\n",
      "261588    Metal  Suffering intolerably from bladder irritabilit...\n",
      "273347     Rock  Oh, this void inside tears my soul apart Why d...\n",
      "299468    Metal  Relying on, a conscious you never had Ignorant...\n",
      "238309      Pop  Sorry seems to be the hardest word What I got ...\n",
      "325674  Country  He's rugged rough and ready his lady's soft an...\n",
      "159974  Country  I heard you cry yourself to sleep And wake up ...\n",
      "289108      Pop  Chorus I always been the shit ever since day o...\n",
      "227223  Hip-Hop  [Ghostface] Damn, this is for all my women tha...\n",
      "212732  Country  VERSE 1 Its a beautiful morning, to see the su...\n",
      "153053  Country  My plans and hopes have tumbled down My castle...\n",
      "271378  Country  There a roadhouse just outside of town on a tw...\n",
      "41425       Pop  Ami cherche un autre ami perdu Dans l'immensit...\n",
      "305923     Rock  Uh oh Uh oh Oh shit Motherfucker! I'm gonna st...\n",
      "109613    Metal  So quick to judge So easily we forget What it'...\n",
      "64650      Rock  Say you want a revolohtion, well, you know Met...\n",
      "344443    Metal  Betrayed one more time But somewhere down that...\n",
      "37051   Country  Her memory was a mountain As tall as it was wi...\n",
      "55204       Pop  Every time I watch TV on the news is something...\n",
      "203014    Metal  [Lyrics by Gerhard Storesund] [Music by Gerhar...\n",
      "3018        Pop  I have loved, and I have lived And I have had ...\n",
      "226296    Metal  It's not true, that I'm a drunkard Even though...\n",
      "168234    Metal  I wished Your heart was grown to shoot an arro...\n",
      "40377   Country  I don't care if I'm not the first love you've ...\n",
      "118333    Metal  We' re lost on the run Without any fears we ar...\n",
      "\n",
      "[50000 rows x 2 columns]\n"
     ]
    }
   ],
   "source": [
    "print (training_genre_lyrics)"
   ]
  },
  {
   "cell_type": "code",
   "execution_count": 10,
   "metadata": {
    "collapsed": true
   },
   "outputs": [],
   "source": [
    "testing_genre_lyrics = shuffle(testing_genre_lyrics)\n",
    "testing_genre_lyrics = testing_genre_lyrics.sample(n = 10000, replace = True)"
   ]
  },
  {
   "cell_type": "code",
   "execution_count": null,
   "metadata": {},
   "outputs": [],
   "source": []
  },
  {
   "cell_type": "code",
   "execution_count": 11,
   "metadata": {},
   "outputs": [
    {
     "name": "stdout",
     "output_type": "stream",
     "text": [
      "10000\n"
     ]
    }
   ],
   "source": [
    "#goes thru training set and append genre pop's lyrics\n",
    "pop_lyrics = []\n",
    "for x in training_genre_lyrics.iterrows():\n",
    "    if x[1][0] == 'Pop':\n",
    "        pop_lyrics.append(x[1][1])\n",
    "pop_lyrics = pd.DataFrame({\"ly\": pop_lyrics})\n",
    "print (len(pop_lyrics))"
   ]
  },
  {
   "cell_type": "code",
   "execution_count": 12,
   "metadata": {},
   "outputs": [
    {
     "name": "stdout",
     "output_type": "stream",
     "text": [
      "10000\n"
     ]
    }
   ],
   "source": [
    "rock_lyrics = []\n",
    "for x in training_genre_lyrics.iterrows():\n",
    "    if x[1][0] == 'Rock':\n",
    "        rock_lyrics.append(x[1][1])\n",
    "print (len(rock_lyrics))\n",
    "rock_lyrics = pd.DataFrame({\"ly\": rock_lyrics})"
   ]
  },
  {
   "cell_type": "code",
   "execution_count": 13,
   "metadata": {},
   "outputs": [
    {
     "name": "stdout",
     "output_type": "stream",
     "text": [
      "10000\n"
     ]
    }
   ],
   "source": [
    "hiphop_lyrics = []\n",
    "for x in training_genre_lyrics.iterrows():\n",
    "    if x[1][0] == 'Hip-Hop':\n",
    "        hiphop_lyrics.append(x[1][1])\n",
    "hiphop_lyrics = pd.DataFrame({\"ly\": hiphop_lyrics})\n",
    "print (len(hiphop_lyrics))"
   ]
  },
  {
   "cell_type": "code",
   "execution_count": 14,
   "metadata": {},
   "outputs": [
    {
     "name": "stdout",
     "output_type": "stream",
     "text": [
      "10000\n"
     ]
    }
   ],
   "source": [
    "metal_lyrics = []\n",
    "for x in training_genre_lyrics.iterrows():\n",
    "    if x[1][0] == 'Metal':\n",
    "        metal_lyrics.append(x[1][1])\n",
    "metal_lyrics = pd.DataFrame({\"ly\": metal_lyrics})\n",
    "print (len(metal_lyrics))"
   ]
  },
  {
   "cell_type": "code",
   "execution_count": 15,
   "metadata": {},
   "outputs": [
    {
     "name": "stdout",
     "output_type": "stream",
     "text": [
      "10000\n"
     ]
    }
   ],
   "source": [
    "country_lyrics = []\n",
    "for x in training_genre_lyrics.iterrows():\n",
    "    if x[1][0] == 'Country':\n",
    "        country_lyrics.append(x[1][1])\n",
    "country_lyrics = pd.DataFrame({\"ly\": country_lyrics})\n",
    "print (len(country_lyrics))"
   ]
  },
  {
   "cell_type": "code",
   "execution_count": 16,
   "metadata": {},
   "outputs": [
    {
     "name": "stdout",
     "output_type": "stream",
     "text": [
      "10000\n"
     ]
    }
   ],
   "source": [
    "#goes thru training artist to find artist name for each genre\n",
    "pop_artist = []\n",
    "for x in training_artist.iterrows():\n",
    "    if x[1][0] == 'Pop':\n",
    "        pop_artist.append(x[1][1])\n",
    "pop_artist = pd.DataFrame({\"artistName\": pop_artist})\n",
    "print (len(pop_artist))"
   ]
  },
  {
   "cell_type": "code",
   "execution_count": 17,
   "metadata": {},
   "outputs": [
    {
     "name": "stdout",
     "output_type": "stream",
     "text": [
      "10000\n"
     ]
    }
   ],
   "source": [
    "rock_artist = []\n",
    "for x in training_artist.iterrows():\n",
    "    if x[1][0] == 'Rock':\n",
    "        rock_artist.append(x[1][1])\n",
    "rock_artist = pd.DataFrame({\"artistName\": rock_artist})\n",
    "print (len(rock_artist))"
   ]
  },
  {
   "cell_type": "code",
   "execution_count": null,
   "metadata": {},
   "outputs": [],
   "source": []
  },
  {
   "cell_type": "code",
   "execution_count": 18,
   "metadata": {},
   "outputs": [
    {
     "name": "stdout",
     "output_type": "stream",
     "text": [
      "10000\n"
     ]
    }
   ],
   "source": [
    "hiphop_artist = []\n",
    "for x in training_artist.iterrows():\n",
    "    if x[1][0] == 'Hip-Hop':\n",
    "        hiphop_artist.append(x[1][1])\n",
    "hiphop_artist = pd.DataFrame({\"artistName\": hiphop_artist})\n",
    "print (len(hiphop_artist))"
   ]
  },
  {
   "cell_type": "code",
   "execution_count": 19,
   "metadata": {},
   "outputs": [
    {
     "name": "stdout",
     "output_type": "stream",
     "text": [
      "10000\n"
     ]
    }
   ],
   "source": [
    "metal_artist = []\n",
    "for x in training_artist.iterrows():\n",
    "    if x[1][0] == 'Metal':\n",
    "        metal_artist.append(x[1][1])\n",
    "metal_artist = pd.DataFrame({\"artistName\": metal_artist})\n",
    "print (len(metal_artist))"
   ]
  },
  {
   "cell_type": "code",
   "execution_count": 20,
   "metadata": {},
   "outputs": [
    {
     "name": "stdout",
     "output_type": "stream",
     "text": [
      "10000\n"
     ]
    }
   ],
   "source": [
    "country_artist = []\n",
    "for x in training_artist.iterrows():\n",
    "    if x[1][0] == 'Country':\n",
    "        country_artist.append(x[1][1])\n",
    "country_artist = pd.DataFrame({\"artist\": country_artist})\n",
    "print (len(country_artist))"
   ]
  },
  {
   "cell_type": "code",
   "execution_count": 21,
   "metadata": {
    "collapsed": true
   },
   "outputs": [],
   "source": [
    "#stop words\n",
    "ENGLISH_STOP_WORDS = frozenset([\n",
    "    \"a\", \"about\", \"above\", \"across\", \"after\", \"afterwards\", \"again\", \"against\",\n",
    "    \"all\", \"almost\", \"alone\", \"along\", \"already\", \"also\", \"although\", \"always\",\n",
    "    \"am\", \"among\", \"amongst\", \"amoungst\", \"amount\", \"an\", \"and\", \"another\",\n",
    "    \"any\", \"anyhow\", \"anyone\", \"anything\", \"anyway\", \"anywhere\", \"are\",\n",
    "    \"around\", \"as\", \"at\", \"back\", \"be\", \"became\", \"because\", \"become\",\n",
    "    \"becomes\", \"becoming\", \"been\", \"before\", \"beforehand\", \"behind\", \"being\",\n",
    "    \"below\", \"beside\", \"besides\", \"between\", \"beyond\", \"bill\", \"both\",\n",
    "    \"bottom\", \"but\", \"by\", \"call\", \"can\", \"cannot\", \"cant\", \"co\", \"con\",\n",
    "    \"could\", \"couldnt\", \"cry\", \"de\", \"describe\", \"detail\", \"do\", \"done\",\n",
    "    \"down\", \"due\", \"during\", \"each\", \"eg\", \"eight\", \"either\", \"eleven\", \"else\",\n",
    "    \"elsewhere\", \"empty\", \"enough\", \"etc\", \"even\", \"ever\", \"every\", \"everyone\",\n",
    "    \"everything\", \"everywhere\", \"except\", \"few\", \"fifteen\", \"fifty\", \"fill\",\n",
    "    \"find\", \"fire\", \"first\", \"five\", \"for\", \"former\", \"formerly\", \"forty\",\n",
    "    \"found\", \"four\", \"from\", \"front\", \"full\", \"further\", \"get\", \"give\", \"go\",\n",
    "    \"had\", \"has\", \"hasnt\", \"have\", \"he\", \"hence\", \"her\", \"here\", \"hereafter\",\n",
    "    \"hereby\", \"herein\", \"hereupon\", \"hers\", \"herself\", \"him\", \"himself\", \"his\",\n",
    "    \"how\", \"however\", \"hundred\", \"i\", \"ie\", \"if\", \"in\", \"inc\", \"indeed\",\n",
    "    \"interest\", \"into\", \"is\", \"it\", \"its\", \"itself\", \"keep\", \"last\", \"latter\",\n",
    "    \"latterly\", \"least\", \"less\", \"ltd\", \"made\", \"many\", \"may\", \"me\",\n",
    "    \"meanwhile\", \"might\", \"mill\", \"mine\", \"more\", \"moreover\", \"most\", \"mostly\",\n",
    "    \"move\", \"much\", \"must\", \"my\", \"myself\", \"name\", \"namely\", \"neither\",\n",
    "    \"never\", \"nevertheless\", \"next\", \"nine\", \"no\", \"nobody\", \"none\", \"noone\",\n",
    "    \"nor\", \"not\", \"nothing\", \"now\", \"nowhere\", \"of\", \"off\", \"often\", \"on\",\n",
    "    \"once\", \"one\", \"only\", \"onto\", \"or\", \"other\", \"others\", \"otherwise\", \"our\",\n",
    "    \"ours\", \"ourselves\", \"out\", \"over\", \"own\", \"part\", \"per\", \"perhaps\",\n",
    "    \"please\", \"put\", \"rather\", \"re\", \"same\", \"see\", \"seem\", \"seemed\",\n",
    "    \"seeming\", \"seems\", \"serious\", \"several\", \"she\", \"should\", \"show\", \"side\",\n",
    "    \"since\", \"sincere\", \"six\", \"sixty\", \"so\", \"some\", \"somehow\", \"someone\",\n",
    "    \"something\", \"sometime\", \"sometimes\", \"somewhere\", \"still\", \"such\",\n",
    "    \"system\", \"take\", \"ten\", \"than\", \"that\", \"the\", \"their\", \"them\",\n",
    "    \"themselves\", \"then\", \"thence\", \"there\", \"thereafter\", \"thereby\",\n",
    "    \"therefore\", \"therein\", \"thereupon\", \"these\", \"they\", \"thick\", \"thin\",\n",
    "    \"third\", \"this\", \"those\", \"though\", \"three\", \"through\", \"throughout\",\n",
    "    \"thru\", \"thus\", \"to\", \"together\", \"too\", \"top\", \"toward\", \"towards\",\n",
    "    \"twelve\", \"twenty\", \"two\", \"un\", \"under\", \"until\", \"up\", \"upon\", \"us\",\n",
    "    \"very\", \"via\", \"was\", \"we\", \"well\", \"were\", \"what\", \"whatever\", \"when\",\n",
    "    \"whence\", \"whenever\", \"where\", \"whereafter\", \"whereas\", \"whereby\",\n",
    "    \"wherein\", \"whereupon\", \"wherever\", \"whether\", \"which\", \"while\", \"whither\",\n",
    "    \"who\", \"whoever\", \"whole\", \"whom\", \"whose\", \"why\", \"will\", \"with\",\n",
    "    \"within\", \"without\", \"would\", \"yet\", \"you\", \"your\", \"yours\", \"yourself\",\n",
    "    \"yourselves\"])"
   ]
  },
  {
   "cell_type": "code",
   "execution_count": 22,
   "metadata": {
    "collapsed": true
   },
   "outputs": [],
   "source": [
    "# Takes a dataframe/list containing lyrics and returns a tuple with the terms and weights \n",
    "def vectorize_feature(genre_lyrics, num_words):\n",
    "    stemmer = SnowballStemmer(\"english\")\n",
    "    genre_lyrics['stemmed'] = genre_lyrics.ly.map(lambda x: ' '.join([stemmer.stem(y) for y in x.split(' ')]))\n",
    "    #genre_lyrics.stemmed.head()\n",
    "    \n",
    "    cvec = CountVectorizer(min_df=1,max_df= 0.5, ngram_range=(1,3), stop_words= ENGLISH_STOP_WORDS)\n",
    "    cvec.fit(genre_lyrics.stemmed)\n",
    "    \n",
    "    # -- use for debugging -- x = list(islice(cvec.vocabulary_.items(), 20))\n",
    "    \n",
    "    cvec_counts = cvec.transform(genre_lyrics.stemmed)\n",
    "    \n",
    "    transformer = TfidfTransformer()\n",
    "    transformed_weights = transformer.fit_transform(cvec_counts)\n",
    "    \n",
    "    weights = np.asarray(transformed_weights.mean(axis=0)).ravel().tolist()\n",
    "    weights_df = pd.DataFrame({'term': cvec.get_feature_names(), 'weight': weights})\n",
    "    weights_df = weights_df.sort_values(by='weight', ascending=False)[:num_words]\n",
    "    \n",
    "    #term_weight_list = []\n",
    "    term_weight_dict = defaultdict(int)\n",
    "    for _, row in weights_df.iterrows():\n",
    "        # Returns a list of (term, weight) tuples\n",
    "        #term_phrase_list.append((row['term'], row['weight']))\n",
    "        term_weight_dict[row['term']] = row['weight']\n",
    "    \n",
    "    # return term_weight_list\n",
    "    return term_weight_dict"
   ]
  },
  {
   "cell_type": "code",
   "execution_count": null,
   "metadata": {
    "collapsed": true
   },
   "outputs": [],
   "source": []
  },
  {
   "cell_type": "code",
   "execution_count": 23,
   "metadata": {},
   "outputs": [],
   "source": [
    "rock_dicts = vectorize_feature(rock_lyrics, 1000)\n",
    "pop_dicts = vectorize_feature(pop_lyrics, 1000)\n",
    "hiphop_dicts = vectorize_feature(hiphop_lyrics, 1000)\n",
    "metal_dicts = vectorize_feature(metal_lyrics, 1000)\n",
    "country_dicts = vectorize_feature(country_lyrics, 1000)"
   ]
  },
  {
   "cell_type": "code",
   "execution_count": 24,
   "metadata": {},
   "outputs": [],
   "source": [
    "#print (df(rock_dicts.keys()))"
   ]
  },
  {
   "cell_type": "code",
   "execution_count": 25,
   "metadata": {},
   "outputs": [],
   "source": [
    "# counter = 0\n",
    "# rock = list(rock_dicts.keys())\n",
    "# pop = list(pop_dicts.keys())\n",
    "# for i in range(1000):\n",
    "#     if rock[i] == pop[i]:\n",
    "#         counter += 1\n",
    "genre = {\n",
    "    'Rock': 0,\n",
    "    'Pop' : 1,\n",
    "    'Hip-Hop' : 2,\n",
    "    'Metal' : 3,\n",
    "    'Country' : 4,\n",
    "}\n"
   ]
  },
  {
   "cell_type": "code",
   "execution_count": 26,
   "metadata": {},
   "outputs": [],
   "source": [
    "# Given new lyrics, return list of sums of weights\n",
    "def find_weights(artist, lyrics):\n",
    "    weight_list = [0]*5\n",
    "    stemmer = SnowballStemmer(\"english\")\n",
    "    stemmed_lyrics = ' '.join([stemmer.stem(y) for y in lyrics.split(' ')])\n",
    "    for i in stemmed_lyrics.split():\n",
    "        weight_list[0] += rock_dicts[i]\n",
    "        weight_list[1] += pop_dicts[i]\n",
    "        weight_list[2] += hiphop_dicts[i]\n",
    "        weight_list[3] += metal_dicts[i]\n",
    "        weight_list[4] += country_dicts[i]\n",
    "    if artist in rock_artist:\n",
    "        return genre['Rock']\n",
    "    elif artist in pop_artist:\n",
    "        return genre['Pop']\n",
    "    elif artist in hiphop_artist:\n",
    "        return genre['Hip_Hop']\n",
    "    elif artist in metal_artist:\n",
    "        return genre['Metal']\n",
    "    elif artist in country_artist:\n",
    "        return genre['Country']\n",
    "    else:\n",
    "        return weight_list.index(max (weight_list))"
   ]
  },
  {
   "cell_type": "code",
   "execution_count": 27,
   "metadata": {},
   "outputs": [],
   "source": [
    "#find_weights('evile',training_genre_lyrics.lyrics[2])"
   ]
  },
  {
   "cell_type": "code",
   "execution_count": 28,
   "metadata": {
    "collapsed": true
   },
   "outputs": [],
   "source": [
    "genre = {\n",
    "    'Rock': 0,\n",
    "    'Pop' : 1,\n",
    "    'Hip-Hop' : 2,\n",
    "    'Metal' : 3,\n",
    "    'Country' : 4,\n",
    "}"
   ]
  },
  {
   "cell_type": "code",
   "execution_count": 29,
   "metadata": {},
   "outputs": [],
   "source": [
    "x_train = [find_weights(x,y) for (x,y) in zip(training_artist.artist,training_genre_lyrics.lyrics)]\n",
    "#print (x_train)"
   ]
  },
  {
   "cell_type": "code",
   "execution_count": 30,
   "metadata": {},
   "outputs": [],
   "source": [
    "#print (x_train)"
   ]
  },
  {
   "cell_type": "code",
   "execution_count": 31,
   "metadata": {
    "collapsed": true
   },
   "outputs": [],
   "source": [
    "y_train = [genre[x] for x in training_genre_lyrics.genre]"
   ]
  },
  {
   "cell_type": "code",
   "execution_count": 32,
   "metadata": {},
   "outputs": [
    {
     "name": "stdout",
     "output_type": "stream",
     "text": [
      "0.41986\n"
     ]
    }
   ],
   "source": [
    "acc = [(x == y) for (x,y) in zip(x_train, y_train)]\n",
    "# acc = sum(acc) * 1.0/50000\n",
    "# print (acc)\n",
    "counter = 0\n",
    "for i in range(len(acc)):\n",
    "    if acc[i] == True:\n",
    "        counter += 1\n",
    "print (counter/50000)\n"
   ]
  },
  {
   "cell_type": "code",
   "execution_count": 33,
   "metadata": {
    "collapsed": true
   },
   "outputs": [],
   "source": [
    "# x_valid = [find_weights(x,y) for (x,y) in zip(validation_artist.artist,validation_genre_lyrics.lyrics)]\n",
    "# y_valid = [genre[x] for x in validation_genre_lyrics.genre]\n",
    "x_valid = x_train[25000:]\n",
    "y_valid = y_train[25000:]"
   ]
  },
  {
   "cell_type": "code",
   "execution_count": 34,
   "metadata": {},
   "outputs": [
    {
     "name": "stdout",
     "output_type": "stream",
     "text": [
      "C = 0.01: validation accuracy = 0.28896\n",
      "C = 0.1: validation accuracy = 0.28896\n",
      "C = 1: validation accuracy = 0.28896\n",
      "C = 10: validation accuracy = 0.2564\n",
      "C = 100: validation accuracy = 0.24444\n"
     ]
    }
   ],
   "source": [
    "from sklearn.svm import LinearSVC\n",
    "from sklearn import svm\n",
    "x_train = np.asarray(x_train).reshape(-1, 1)\n",
    "x_valid = np.asarray(x_valid).reshape(-1, 1)\n",
    "bestAcc = 0\n",
    "bestCLF = None\n",
    "for c in 0.01, 0.1, 1, 10, 100:\n",
    "  clf = svm.LinearSVC(C = c) # Linear SVM is faster\n",
    "  clf.fit(x_train, y_train)\n",
    "  predictions = [int(x) for x in clf.predict(x_valid)]\n",
    "  acc = [(x == y) for (x,y) in zip(predictions, y_valid)]\n",
    "  acc = sum(acc) * 1.0 / len(acc)\n",
    "  if acc > bestAcc:\n",
    "    bestAcc = acc\n",
    "    bestCLF = clf\n",
    "  print(\"C = \" + str(c) + \": validation accuracy = \" + str(acc))"
   ]
  },
  {
   "cell_type": "code",
   "execution_count": 35,
   "metadata": {},
   "outputs": [],
   "source": [
    "x_test = [find_weights(x,y) for (x,y) in zip(testing_artist,testing_genre_lyrics.lyrics)]\n",
    "y_test = [genre[x] for x in testing_genre_lyrics.genre]"
   ]
  },
  {
   "cell_type": "code",
   "execution_count": null,
   "metadata": {},
   "outputs": [],
   "source": []
  },
  {
   "cell_type": "code",
   "execution_count": 36,
   "metadata": {},
   "outputs": [
    {
     "name": "stdout",
     "output_type": "stream",
     "text": [
      "C = 0.01: validation accuracy = 0.1987\n",
      "C = 0.1: validation accuracy = 0.1987\n",
      "C = 1: validation accuracy = 0.1987\n",
      "C = 10: validation accuracy = 0.2028\n",
      "C = 100: validation accuracy = 0.2049\n"
     ]
    }
   ],
   "source": [
    "x_test = np.asarray(x_train).reshape(-1, 1)\n",
    "x_test = np.asarray(x_test).reshape(-1, 1)\n",
    "bestAcc = 0\n",
    "bestCLF = None\n",
    "for c in 0.01, 0.1, 1, 10, 100:\n",
    "  clf = svm.LinearSVC(C = c) # Linear SVM is faster\n",
    "  clf.fit(x_train, y_train)\n",
    "  predictions = [int(x) for x in clf.predict(x_test)]\n",
    "  acc = [(x == y) for (x,y) in zip(predictions, y_test)]\n",
    "  acc = sum(acc) * 1.0 / len(acc)\n",
    "  if acc > bestAcc:\n",
    "    bestAcc = acc\n",
    "    bestCLF = clf\n",
    "  print(\"C = \" + str(c) + \": validation accuracy = \" + str(acc))"
   ]
  },
  {
   "cell_type": "code",
   "execution_count": 37,
   "metadata": {
    "collapsed": true
   },
   "outputs": [],
   "source": [
    " from sklearn.metrics import r2_score"
   ]
  },
  {
   "cell_type": "code",
   "execution_count": 38,
   "metadata": {},
   "outputs": [
    {
     "data": {
      "text/plain": [
       "-0.85746681867410701"
      ]
     },
     "execution_count": 38,
     "metadata": {},
     "output_type": "execute_result"
    }
   ],
   "source": [
    "r2_score(x_train, y_train)"
   ]
  },
  {
   "cell_type": "code",
   "execution_count": null,
   "metadata": {
    "collapsed": true
   },
   "outputs": [],
   "source": []
  },
  {
   "cell_type": "code",
   "execution_count": null,
   "metadata": {
    "collapsed": true
   },
   "outputs": [],
   "source": []
  },
  {
   "cell_type": "code",
   "execution_count": null,
   "metadata": {
    "collapsed": true
   },
   "outputs": [],
   "source": []
  }
 ],
 "metadata": {
  "kernelspec": {
   "display_name": "Python 3",
   "language": "python",
   "name": "python3"
  },
  "language_info": {
   "codemirror_mode": {
    "name": "ipython",
    "version": 3
   },
   "file_extension": ".py",
   "mimetype": "text/x-python",
   "name": "python",
   "nbconvert_exporter": "python",
   "pygments_lexer": "ipython3",
   "version": "3.6.3"
  }
 },
 "nbformat": 4,
 "nbformat_minor": 2
}

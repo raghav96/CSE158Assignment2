{
 "cells": [
  {
   "cell_type": "code",
   "execution_count": 47,
   "metadata": {
    "collapsed": true
   },
   "outputs": [],
   "source": [
    "import pandas as pd\n",
    "import numpy as np\n",
    "import math\n",
    "from nltk.stem.snowball import SnowballStemmer\n",
    "from itertools import islice\n",
    "from sklearn.feature_extraction.text import CountVectorizer\n",
    "from sklearn.feature_extraction.text import TfidfTransformer\n",
    "from collections import defaultdict\n",
    "from sklearn.svm import LinearSVC"
   ]
  },
  {
   "cell_type": "code",
   "execution_count": 41,
   "metadata": {
    "collapsed": true
   },
   "outputs": [],
   "source": [
    "data = pd.read_csv(\"lyrics.csv\")"
   ]
  },
  {
   "cell_type": "code",
   "execution_count": 42,
   "metadata": {
    "collapsed": true
   },
   "outputs": [],
   "source": [
    "data = data.replace({'[iI][Nn][sS][Tt][Rr][Uu][Mm][Ee][Nn][Tt]' : math.nan}, regex=True)\n",
    "data = data.replace({'instrument': math.nan})\n",
    "data = data.replace({'Instrument' : math.nan})\n",
    "data = data.dropna()\n",
    "data = data[data.genre != \"Not Available\"]\n",
    "data = data.replace({'\\n': ' '}, regex=True)"
   ]
  },
  {
   "cell_type": "code",
   "execution_count": 43,
   "metadata": {
    "collapsed": false
   },
   "outputs": [
    {
     "data": {
      "text/plain": [
       "237769"
      ]
     },
     "execution_count": 43,
     "metadata": {},
     "output_type": "execute_result"
    }
   ],
   "source": [
    "len(data)"
   ]
  },
  {
   "cell_type": "code",
   "execution_count": 44,
   "metadata": {
    "collapsed": false
   },
   "outputs": [
    {
     "data": {
      "text/html": [
       "<div>\n",
       "<table border=\"1\" class=\"dataframe\">\n",
       "  <thead>\n",
       "    <tr style=\"text-align: right;\">\n",
       "      <th></th>\n",
       "      <th>index</th>\n",
       "      <th>song</th>\n",
       "      <th>year</th>\n",
       "      <th>artist</th>\n",
       "      <th>genre</th>\n",
       "      <th>lyrics</th>\n",
       "    </tr>\n",
       "  </thead>\n",
       "  <tbody>\n",
       "    <tr>\n",
       "      <th>0</th>\n",
       "      <td>0</td>\n",
       "      <td>ego-remix</td>\n",
       "      <td>2009</td>\n",
       "      <td>beyonce-knowles</td>\n",
       "      <td>Pop</td>\n",
       "      <td>Oh baby, how you doing? You know I'm gonna cut...</td>\n",
       "    </tr>\n",
       "    <tr>\n",
       "      <th>1</th>\n",
       "      <td>1</td>\n",
       "      <td>then-tell-me</td>\n",
       "      <td>2009</td>\n",
       "      <td>beyonce-knowles</td>\n",
       "      <td>Pop</td>\n",
       "      <td>playin' everything so easy, it's like you seem...</td>\n",
       "    </tr>\n",
       "    <tr>\n",
       "      <th>2</th>\n",
       "      <td>2</td>\n",
       "      <td>honesty</td>\n",
       "      <td>2009</td>\n",
       "      <td>beyonce-knowles</td>\n",
       "      <td>Pop</td>\n",
       "      <td>If you search For tenderness It isn't hard to ...</td>\n",
       "    </tr>\n",
       "    <tr>\n",
       "      <th>3</th>\n",
       "      <td>3</td>\n",
       "      <td>you-are-my-rock</td>\n",
       "      <td>2009</td>\n",
       "      <td>beyonce-knowles</td>\n",
       "      <td>Pop</td>\n",
       "      <td>Oh oh oh I, oh oh oh I [Verse 1:] If I wrote a...</td>\n",
       "    </tr>\n",
       "    <tr>\n",
       "      <th>4</th>\n",
       "      <td>4</td>\n",
       "      <td>black-culture</td>\n",
       "      <td>2009</td>\n",
       "      <td>beyonce-knowles</td>\n",
       "      <td>Pop</td>\n",
       "      <td>Party the people, the people the party it's po...</td>\n",
       "    </tr>\n",
       "  </tbody>\n",
       "</table>\n",
       "</div>"
      ],
      "text/plain": [
       "   index             song  year           artist genre  \\\n",
       "0      0        ego-remix  2009  beyonce-knowles   Pop   \n",
       "1      1     then-tell-me  2009  beyonce-knowles   Pop   \n",
       "2      2          honesty  2009  beyonce-knowles   Pop   \n",
       "3      3  you-are-my-rock  2009  beyonce-knowles   Pop   \n",
       "4      4    black-culture  2009  beyonce-knowles   Pop   \n",
       "\n",
       "                                              lyrics  \n",
       "0  Oh baby, how you doing? You know I'm gonna cut...  \n",
       "1  playin' everything so easy, it's like you seem...  \n",
       "2  If you search For tenderness It isn't hard to ...  \n",
       "3  Oh oh oh I, oh oh oh I [Verse 1:] If I wrote a...  \n",
       "4  Party the people, the people the party it's po...  "
      ]
     },
     "execution_count": 44,
     "metadata": {},
     "output_type": "execute_result"
    }
   ],
   "source": [
    "data = data.loc[(data['genre'] == 'Pop') | (data['genre'] == 'Rock') | (data['genre'] == 'Hip-Hop') | (data['genre'] == 'Metal') | (data['genre'] == 'Country')]\n",
    "#x = training_genre_lyrics.loc[training_genre_lyrics['genre'] == 'Jazz']\n",
    "len(data)\n",
    "data.head()"
   ]
  },
  {
   "cell_type": "code",
   "execution_count": 45,
   "metadata": {
    "collapsed": false
   },
   "outputs": [],
   "source": [
    "data_pop = data.loc[(data['genre'] == 'Pop')]\n",
    "data_rock = data.loc[(data['genre'] == 'Rock')]\n",
    "data_hiphop = data.loc[(data['genre'] == \"Hip-Hop\")]\n",
    "data_metal = data.loc[(data['genre']== \"Metal\")]\n",
    "data_country = data.loc[(data['genre'] == \"Country\")]\n",
    "\n",
    "\n",
    "def get_sample(num_each):\n",
    "    pop_df = data_pop.sample(n = num_each, replace = True)\n",
    "    rock_df = (data_rock.sample(n = num_each, replace=True))\n",
    "    hiphop_df = (data_hiphop.sample(n = num_each, replace=True))\n",
    "    metal_df = (data_metal.sample(n = num_each, replace=True))\n",
    "    country_df = (data_country.sample(n = num_each, replace=True))\n",
    "    ret_df = pd.concat([pop_df, rock_df, hiphop_df, metal_df, country_df])\n",
    "    ret_df = ret_df.sample(frac=1)\n",
    "    return ret_df\n",
    "\n",
    "training_set = get_sample(10000)\n",
    "validation_set = get_sample(10000)\n",
    "test_set = get_sample(10000)\n",
    "\n",
    "#training_50k = data.sample(n=50000, replace=True)\n",
    "#validation_50k = data.sample(n=50000, replace=True)\n",
    "#testing_50k = data.sample(n=50000, replace=True)\n",
    "\n"
   ]
  },
  {
   "cell_type": "code",
   "execution_count": 46,
   "metadata": {
    "collapsed": false
   },
   "outputs": [
    {
     "data": {
      "text/plain": [
       "Country    10000\n",
       "Rock       10000\n",
       "Pop        10000\n",
       "Metal      10000\n",
       "Hip-Hop    10000\n",
       "Name: genre, dtype: int64"
      ]
     },
     "execution_count": 46,
     "metadata": {},
     "output_type": "execute_result"
    }
   ],
   "source": [
    "training_test['genre'].value_counts()"
   ]
  },
  {
   "cell_type": "code",
   "execution_count": 52,
   "metadata": {
    "collapsed": false
   },
   "outputs": [],
   "source": [
    "# Filter just genre and lyrics columns\n",
    "training_genre_lyrics = training_set.filter([ 'genre', 'lyrics'])\n",
    "validation_genre_lyrics = validation_set.filter(['genre', 'lyrics'])\n",
    "testing_genre_lyrics = test_set.filter(['genre', 'lyrics'])"
   ]
  },
  {
   "cell_type": "code",
   "execution_count": 57,
   "metadata": {
    "collapsed": false
   },
   "outputs": [
    {
     "name": "stdout",
     "output_type": "stream",
     "text": [
      "10000\n"
     ]
    }
   ],
   "source": [
    "#goes thru training set and append genre pop's lyrics\n",
    "pop_lyrics = []\n",
    "for x in training_genre_lyrics.iterrows():\n",
    "    if x[1][0] == 'Pop':\n",
    "        pop_lyrics.append(x[1][1])\n",
    "pop_lyrics = pd.DataFrame({\"ly\": pop_lyrics})\n",
    "print (len(pop_lyrics))"
   ]
  },
  {
   "cell_type": "code",
   "execution_count": 62,
   "metadata": {
    "collapsed": false
   },
   "outputs": [
    {
     "name": "stdout",
     "output_type": "stream",
     "text": [
      "10000\n"
     ]
    }
   ],
   "source": [
    "rock_lyrics = []\n",
    "for x in training_genre_lyrics.iterrows():\n",
    "    if x[1][0] == 'Rock':\n",
    "        rock_lyrics.append(x[1][1])\n",
    "print (len(rock_lyrics))\n",
    "rock_lyrics = pd.DataFrame({\"ly\": rock_lyrics})"
   ]
  },
  {
   "cell_type": "code",
   "execution_count": 59,
   "metadata": {
    "collapsed": false
   },
   "outputs": [
    {
     "name": "stdout",
     "output_type": "stream",
     "text": [
      "10000\n"
     ]
    }
   ],
   "source": [
    "hiphop_lyrics = []\n",
    "for x in training_genre_lyrics.iterrows():\n",
    "    if x[1][0] == 'Hip-Hop':\n",
    "        hiphop_lyrics.append(x[1][1])\n",
    "hiphop_lyrics = pd.DataFrame({\"ly\": hiphop_lyrics})\n",
    "print (len(hiphop_lyrics))"
   ]
  },
  {
   "cell_type": "code",
   "execution_count": 60,
   "metadata": {
    "collapsed": false
   },
   "outputs": [
    {
     "name": "stdout",
     "output_type": "stream",
     "text": [
      "10000\n"
     ]
    }
   ],
   "source": [
    "metal_lyrics = []\n",
    "for x in training_genre_lyrics.iterrows():\n",
    "    if x[1][0] == 'Metal':\n",
    "        metal_lyrics.append(x[1][1])\n",
    "metal_lyrics = pd.DataFrame({\"ly\": metal_lyrics})\n",
    "print (len(metal_lyrics))"
   ]
  },
  {
   "cell_type": "code",
   "execution_count": 61,
   "metadata": {
    "collapsed": false
   },
   "outputs": [
    {
     "name": "stdout",
     "output_type": "stream",
     "text": [
      "10000\n"
     ]
    }
   ],
   "source": [
    "country_lyrics = []\n",
    "for x in training_genre_lyrics.iterrows():\n",
    "    if x[1][0] == 'Country':\n",
    "        country_lyrics.append(x[1][1])\n",
    "country_lyrics = pd.DataFrame({\"ly\": country_lyrics})\n",
    "print (len(country_lyrics))"
   ]
  },
  {
   "cell_type": "code",
   "execution_count": 63,
   "metadata": {
    "collapsed": true
   },
   "outputs": [],
   "source": [
    "# Takes a dataframe/list containing lyrics and returns a tuple with the terms and weights \n",
    "def vectorize_feature(genre_lyrics, num_words):\n",
    "    stemmer = SnowballStemmer(\"english\")\n",
    "    genre_lyrics['stemmed'] = genre_lyrics.ly.map(lambda x: ' '.join([stemmer.stem(y) for y in x.split(' ')]))\n",
    "    #genre_lyrics.stemmed.head()\n",
    "    \n",
    "    cvec = CountVectorizer(min_df=1, max_df=.5, ngram_range=(1,3))\n",
    "    cvec.fit(genre_lyrics.stemmed)\n",
    "    \n",
    "    # -- use for debugging -- x = list(islice(cvec.vocabulary_.items(), 20))\n",
    "    \n",
    "    cvec_counts = cvec.transform(genre_lyrics.stemmed)\n",
    "    \n",
    "    transformer = TfidfTransformer()\n",
    "    transformed_weights = transformer.fit_transform(cvec_counts)\n",
    "    \n",
    "    weights = np.asarray(transformed_weights.mean(axis=0)).ravel().tolist()\n",
    "    weights_df = pd.DataFrame({'term': cvec.get_feature_names(), 'weight': weights})\n",
    "    weights_df = weights_df.sort_values(by='weight', ascending=False)[:num_words]\n",
    "    \n",
    "    #term_weight_list = []\n",
    "    term_weight_dict = defaultdict(int)\n",
    "    for _, row in weights_df.iterrows():\n",
    "        # Returns a list of (term, weight) tuples\n",
    "        #term_phrase_list.append((row['term'], row['weight']))\n",
    "        term_weight_dict[row['term']] = row['weight']\n",
    "    \n",
    "    # return term_weight_list\n",
    "    return term_weight_dict"
   ]
  },
  {
   "cell_type": "code",
   "execution_count": 73,
   "metadata": {
    "collapsed": false
   },
   "outputs": [],
   "source": [
    "rock_dicts = vectorize_feature(rock_lyrics, 500)\n",
    "pop_dicts = vectorize_feature(pop_lyrics, 500)\n",
    "hiphop_dicts = vectorize_feature(hiphop_lyrics, 500)\n",
    "metal_dicts = vectorize_feature(metal_lyrics, 500)\n",
    "country_dicts = vectorize_feature(country_lyrics, 500)"
   ]
  },
  {
   "cell_type": "code",
   "execution_count": 74,
   "metadata": {
    "collapsed": false
   },
   "outputs": [],
   "source": [
    "# Given new lyrics, return list of sums of weights\n",
    "def find_weights(lyrics):\n",
    "    weight_list = [0]*5\n",
    "    stemmer = SnowballStemmer(\"english\")\n",
    "    stemmed_lyrics = ' '.join([stemmer.stem(y) for y in lyrics.split(' ')])\n",
    "    for i in stemmed_lyrics.split():\n",
    "        weight_list[0] += rock_dicts[i]\n",
    "        weight_list[1] += pop_dicts[i]\n",
    "        weight_list[2] += hiphop_dicts[i]\n",
    "        weight_list[3] += metal_dicts[i]\n",
    "        weight_list[4] += country_dicts[i]\n",
    "    return weight_list"
   ]
  },
  {
   "cell_type": "code",
   "execution_count": 75,
   "metadata": {
    "collapsed": false
   },
   "outputs": [
    {
     "data": {
      "text/plain": [
       "[0.06618734711187454,\n",
       " 0.1127357938314214,\n",
       " 0.06984031249846831,\n",
       " 0.035128957807037856,\n",
       " 0.04818570913556183,\n",
       " 0,\n",
       " 0,\n",
       " 0,\n",
       " 0,\n",
       " 0,\n",
       " 0]"
      ]
     },
     "execution_count": 75,
     "metadata": {},
     "output_type": "execute_result"
    }
   ],
   "source": [
    "find_weights(pop_lyrics.ly[9])"
   ]
  },
  {
   "cell_type": "code",
   "execution_count": null,
   "metadata": {
    "collapsed": true
   },
   "outputs": [],
   "source": []
  }
 ],
 "metadata": {
  "kernelspec": {
   "display_name": "Python 3",
   "language": "python",
   "name": "python3"
  },
  "language_info": {
   "codemirror_mode": {
    "name": "ipython",
    "version": 3
   },
   "file_extension": ".py",
   "mimetype": "text/x-python",
   "name": "python",
   "nbconvert_exporter": "python",
   "pygments_lexer": "ipython3",
   "version": "3.6.0"
  }
 },
 "nbformat": 4,
 "nbformat_minor": 2
}

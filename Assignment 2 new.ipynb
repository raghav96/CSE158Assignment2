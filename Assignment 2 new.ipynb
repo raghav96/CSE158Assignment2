{
 "cells": [
  {
   "cell_type": "code",
   "execution_count": 2,
   "metadata": {
    "collapsed": true
   },
   "outputs": [],
   "source": [
    "import pandas as pd\n",
    "import numpy as np\n",
    "import math\n",
    "from nltk.stem.snowball import SnowballStemmer\n",
    "from itertools import islice\n",
    "from sklearn.feature_extraction.text import CountVectorizer\n",
    "from sklearn.feature_extraction.text import TfidfTransformer\n",
    "from collections import defaultdict\n",
    "from sklearn.svm import LinearSVC\n",
    "from sklearn.utils import shuffle"
   ]
  },
  {
   "cell_type": "code",
   "execution_count": 3,
   "metadata": {
    "collapsed": true
   },
   "outputs": [],
   "source": [
    "data = pd.read_csv(\"lyrics.csv\")"
   ]
  },
  {
   "cell_type": "code",
   "execution_count": 4,
   "metadata": {
    "collapsed": true
   },
   "outputs": [],
   "source": [
    "data = data.replace({'[iI][Nn][sS][Tt][Rr][Uu][Mm][Ee][Nn][Tt]' : math.nan}, regex=True)\n",
    "data = data.replace({'instrument': math.nan})\n",
    "data = data.replace({'Instrument' : math.nan})\n",
    "data = data.dropna()\n",
    "data = data[data.genre != \"Not Available\"]\n",
    "data = data.replace({'\\n': ' '}, regex=True)"
   ]
  },
  {
   "cell_type": "code",
   "execution_count": 5,
   "metadata": {
    "collapsed": false
   },
   "outputs": [
    {
     "data": {
      "text/plain": [
       "237769"
      ]
     },
     "execution_count": 5,
     "metadata": {},
     "output_type": "execute_result"
    }
   ],
   "source": [
    "len(data)"
   ]
  },
  {
   "cell_type": "code",
   "execution_count": 6,
   "metadata": {
    "collapsed": false
   },
   "outputs": [
    {
     "data": {
      "text/html": [
       "<div>\n",
       "<table border=\"1\" class=\"dataframe\">\n",
       "  <thead>\n",
       "    <tr style=\"text-align: right;\">\n",
       "      <th></th>\n",
       "      <th>index</th>\n",
       "      <th>song</th>\n",
       "      <th>year</th>\n",
       "      <th>artist</th>\n",
       "      <th>genre</th>\n",
       "      <th>lyrics</th>\n",
       "    </tr>\n",
       "  </thead>\n",
       "  <tbody>\n",
       "    <tr>\n",
       "      <th>0</th>\n",
       "      <td>0</td>\n",
       "      <td>ego-remix</td>\n",
       "      <td>2009</td>\n",
       "      <td>beyonce-knowles</td>\n",
       "      <td>Pop</td>\n",
       "      <td>Oh baby, how you doing? You know I'm gonna cut...</td>\n",
       "    </tr>\n",
       "    <tr>\n",
       "      <th>1</th>\n",
       "      <td>1</td>\n",
       "      <td>then-tell-me</td>\n",
       "      <td>2009</td>\n",
       "      <td>beyonce-knowles</td>\n",
       "      <td>Pop</td>\n",
       "      <td>playin' everything so easy, it's like you seem...</td>\n",
       "    </tr>\n",
       "    <tr>\n",
       "      <th>2</th>\n",
       "      <td>2</td>\n",
       "      <td>honesty</td>\n",
       "      <td>2009</td>\n",
       "      <td>beyonce-knowles</td>\n",
       "      <td>Pop</td>\n",
       "      <td>If you search For tenderness It isn't hard to ...</td>\n",
       "    </tr>\n",
       "    <tr>\n",
       "      <th>3</th>\n",
       "      <td>3</td>\n",
       "      <td>you-are-my-rock</td>\n",
       "      <td>2009</td>\n",
       "      <td>beyonce-knowles</td>\n",
       "      <td>Pop</td>\n",
       "      <td>Oh oh oh I, oh oh oh I [Verse 1:] If I wrote a...</td>\n",
       "    </tr>\n",
       "    <tr>\n",
       "      <th>4</th>\n",
       "      <td>4</td>\n",
       "      <td>black-culture</td>\n",
       "      <td>2009</td>\n",
       "      <td>beyonce-knowles</td>\n",
       "      <td>Pop</td>\n",
       "      <td>Party the people, the people the party it's po...</td>\n",
       "    </tr>\n",
       "  </tbody>\n",
       "</table>\n",
       "</div>"
      ],
      "text/plain": [
       "   index             song  year           artist genre  \\\n",
       "0      0        ego-remix  2009  beyonce-knowles   Pop   \n",
       "1      1     then-tell-me  2009  beyonce-knowles   Pop   \n",
       "2      2          honesty  2009  beyonce-knowles   Pop   \n",
       "3      3  you-are-my-rock  2009  beyonce-knowles   Pop   \n",
       "4      4    black-culture  2009  beyonce-knowles   Pop   \n",
       "\n",
       "                                              lyrics  \n",
       "0  Oh baby, how you doing? You know I'm gonna cut...  \n",
       "1  playin' everything so easy, it's like you seem...  \n",
       "2  If you search For tenderness It isn't hard to ...  \n",
       "3  Oh oh oh I, oh oh oh I [Verse 1:] If I wrote a...  \n",
       "4  Party the people, the people the party it's po...  "
      ]
     },
     "execution_count": 6,
     "metadata": {},
     "output_type": "execute_result"
    }
   ],
   "source": [
    "data = data.loc[(data['genre'] == 'Pop') | (data['genre'] == 'Rock') | (data['genre'] == 'Hip-Hop') | (data['genre'] == 'Metal') | (data['genre'] == 'Country')]\n",
    "#x = training_genre_lyrics.loc[training_genre_lyrics['genre'] == 'Jazz']\n",
    "len(data)\n",
    "data.head()"
   ]
  },
  {
   "cell_type": "code",
   "execution_count": 7,
   "metadata": {
    "collapsed": true
   },
   "outputs": [],
   "source": [
    "data_pop = data.loc[(data['genre'] == 'Pop')]\n",
    "data_rock = data.loc[(data['genre'] == 'Rock')]\n",
    "data_hiphop = data.loc[(data['genre'] == \"Hip-Hop\")]\n",
    "data_metal = data.loc[(data['genre']== \"Metal\")]\n",
    "data_country = data.loc[(data['genre'] == \"Country\")]\n",
    "\n",
    "\n",
    "def get_sample(num_each):\n",
    "    pop_df = data_pop.sample(n = num_each, replace = True)\n",
    "    rock_df = (data_rock.sample(n = num_each, replace=True))\n",
    "    hiphop_df = (data_hiphop.sample(n = num_each, replace=True))\n",
    "    metal_df = (data_metal.sample(n = num_each, replace=True))\n",
    "    country_df = (data_country.sample(n = num_each, replace=True))\n",
    "    ret_df = pd.concat([pop_df, rock_df, hiphop_df, metal_df, country_df])\n",
    "    ret_df = ret_df.sample(frac=1)\n",
    "    return ret_df\n",
    "\n",
    "training_set = get_sample(10000)\n",
    "validation_set = get_sample(10000)\n",
    "test_set = get_sample(10000)\n",
    "\n",
    "#training_50k = data.sample(n=50000, replace=True)\n",
    "#validation_50k = data.sample(n=50000, replace=True)\n",
    "#testing_50k = data.sample(n=50000, replace=True)\n",
    "\n"
   ]
  },
  {
   "cell_type": "code",
   "execution_count": 8,
   "metadata": {
    "collapsed": true
   },
   "outputs": [],
   "source": [
    "#training_test['genre'].value_counts()\n"
   ]
  },
  {
   "cell_type": "code",
   "execution_count": 9,
   "metadata": {
    "collapsed": true
   },
   "outputs": [],
   "source": [
    "# Filter just genre and lyrics columns\n",
    "training_genre_lyrics = training_set.filter(['genre', 'lyrics'])\n",
    "training_artist = training_set.filter(['genre', 'artist'])\n",
    "validation_genre_lyrics = validation_set.filter(['genre', 'lyrics'])\n",
    "validation_artist = validation_set.filter(['genre','artist'])\n",
    "testing_genre_lyrics = test_set.filter(['genre', 'lyrics'])\n",
    "testing_artist = test_set.filter(['genre','lyrics'])"
   ]
  },
  {
   "cell_type": "code",
   "execution_count": 10,
   "metadata": {
    "collapsed": false
   },
   "outputs": [
    {
     "name": "stdout",
     "output_type": "stream",
     "text": [
      "          genre                                             lyrics\n",
      "79604     Metal  Silence in the living room Hours feel like day...\n",
      "313743  Hip-Hop  Diggin In The Crates 9 9 Yeah yeah Still Diggi...\n",
      "355361      Pop  Safe as houses Built on quicksand Because I pl...\n",
      "168515      Pop  Quisiera En esta noche detener El tiempo Y en ...\n",
      "245582  Country  Oh it's late, I know I should be leaving We've...\n",
      "216498    Metal  Ignorance breeds fear, breeds hate, breeds vio...\n",
      "162973     Rock  Another day dawn's grey It's enough to make me...\n",
      "142381    Metal  Dancing in the temple of the mad queen bee Dee...\n",
      "87486      Rock  Well c'mon over baby, whole lotta shakin going...\n",
      "54890   Hip-Hop  i want [10x] make my list , check my list , pr...\n",
      "68127   Country  Just across the mountain there is something ca...\n",
      "42102       Pop  A train to nowhere I walk around and I tried t...\n",
      "310128  Country  She was quite a looker she kept herself up wel...\n",
      "90063     Metal  Father can you hear me, did you talk to mother...\n",
      "301889      Pop  Songbird sings from the heart Each word can te...\n",
      "230071     Rock  (Ooh yeah) I've been to the left, I've been to...\n",
      "136539  Hip-Hop  Birdman, what up? Last time I seen bird, he sa...\n",
      "27916      Rock  I get into the car Turn the radio up real far ...\n",
      "326554  Country  The wild birds are flying high wild and free W...\n",
      "117758    Metal  And this is where I stay, in between the in be...\n",
      "359230      Pop  Ha pasado mucho tiempo, mucho tiempo desde que...\n",
      "173036  Hip-Hop  [Intro] Yeah, DeStorm Mad critical And origina...\n",
      "65461     Metal  After the torchlight red on sweaty faces After...\n",
      "185070    Metal  Honor abide Choice of words That I speak today...\n",
      "317870     Rock  Drinking coffee from a cup three days old Look...\n",
      "129902  Country  (Dolly Parton) When you need to be love, let m...\n",
      "332953     Rock  Resbal durante siglos Hasta que, faltando el s...\n",
      "346884  Hip-Hop  One time I was at the beach And we were lookin...\n",
      "285368     Rock  I've been working so, I've been working so, I'...\n",
      "318610  Country  Oh the sun's gonna shine in my life once more ...\n",
      "...         ...                                                ...\n",
      "270757  Country  Here the labor is so hard and the workers are ...\n",
      "265489    Metal  Tonight is the night The empowering wind that ...\n",
      "274984      Pop  Sono I nuovi eroi I ragazzi che Rabbia in pugn...\n",
      "220995      Pop  At first I was afraid, I was petrified Kept th...\n",
      "290195     Rock  We used to knock around at school But now you'...\n",
      "93296   Country  If I were a carpenter and you were a lady Woul...\n",
      "251060     Rock  She smiles at me then brings coffee to the tab...\n",
      "163055    Metal  John Doe, the answer to my prayers Won't you c...\n",
      "115173      Pop  Turn me up yo That's right New Edition (You do...\n",
      "284174      Pop  Saehayan Carpet Eopjilleojin Wine Haneuldo ppa...\n",
      "198461      Pop  Love is higher than a mountain Love is thicker...\n",
      "126562  Country  You'll walk unscathed through musket fire No p...\n",
      "191060     Rock  Oh what a feeling when you're up all night Get...\n",
      "139522  Country  I'm happy when you're happy and I cry each tim...\n",
      "203633      Pop  We're keeping busy Yeah, we're bleeding stones...\n",
      "107048    Metal  When I come back from a mighty quest I have no...\n",
      "101418      Pop  Fly yellow moon You put the smile back on my f...\n",
      "123971     Rock  Buddha was a fat man, so what! Mohamed thought...\n",
      "172630  Hip-Hop  Let's take it to the stage sucker! It's the E ...\n",
      "304049    Metal  Twenty years had passed, happiness fad come ba...\n",
      "155136  Country  It can happen any moment Without reason or rhy...\n",
      "353762     Rock  Try to pretend that everyone's not dying here....\n",
      "43239       Pop  We were born to mothers who smoked and drank O...\n",
      "61235      Rock  The thought of this has left you numb. I'm wai...\n",
      "146466  Country  Whoa, aw, yeah I'm docking out, I'm loading up...\n",
      "149326     Rock  A friend says that your love won't mean a lot ...\n",
      "54289   Hip-Hop  Yo check it out. Today we're here wit basketba...\n",
      "5004    Country  I'm afraid to go up to the second floor If you...\n",
      "127586      Pop  somethin bout the way somethin bout the way yo...\n",
      "227289  Hip-Hop  Standing at the bus stop I heard a voice behin...\n",
      "\n",
      "[50000 rows x 2 columns]\n"
     ]
    }
   ],
   "source": [
    "print (training_genre_lyrics)"
   ]
  },
  {
   "cell_type": "code",
   "execution_count": 11,
   "metadata": {
    "collapsed": true
   },
   "outputs": [],
   "source": [
    "testing_genre_lyrics = shuffle(testing_genre_lyrics)\n",
    "testing_genre_lyrics = testing_genre_lyrics.sample(n = 10000, replace = True)"
   ]
  },
  {
   "cell_type": "code",
   "execution_count": null,
   "metadata": {
    "collapsed": true
   },
   "outputs": [],
   "source": []
  },
  {
   "cell_type": "code",
   "execution_count": 23,
   "metadata": {
    "collapsed": false
   },
   "outputs": [
    {
     "name": "stdout",
     "output_type": "stream",
     "text": [
      "10000\n"
     ]
    }
   ],
   "source": [
    "#goes thru training set and append genre pop's lyrics\n",
    "pop_lyrics_list = []\n",
    "for x in training_genre_lyrics.iterrows():\n",
    "    if x[1][0] == 'Pop':\n",
    "        pop_lyrics_list.append(x[1][1])\n",
    "pop_lyrics = pd.DataFrame({\"ly\": pop_lyrics_list})\n",
    "print (len(pop_lyrics))"
   ]
  },
  {
   "cell_type": "code",
   "execution_count": 24,
   "metadata": {
    "collapsed": false
   },
   "outputs": [
    {
     "name": "stdout",
     "output_type": "stream",
     "text": [
      "10000\n"
     ]
    }
   ],
   "source": [
    "rock_lyrics_list = []\n",
    "for x in training_genre_lyrics.iterrows():\n",
    "    if x[1][0] == 'Rock':\n",
    "        rock_lyrics_list.append(x[1][1])\n",
    "print (len(rock_lyrics_list))\n",
    "rock_lyrics = pd.DataFrame({\"ly\": rock_lyrics_list})"
   ]
  },
  {
   "cell_type": "code",
   "execution_count": 25,
   "metadata": {
    "collapsed": false
   },
   "outputs": [
    {
     "name": "stdout",
     "output_type": "stream",
     "text": [
      "10000\n"
     ]
    }
   ],
   "source": [
    "hiphop_lyrics_list = []\n",
    "for x in training_genre_lyrics.iterrows():\n",
    "    if x[1][0] == 'Hip-Hop':\n",
    "        hiphop_lyrics_list.append(x[1][1])\n",
    "hiphop_lyrics = pd.DataFrame({\"ly\": hiphop_lyrics_list})\n",
    "print (len(hiphop_lyrics))"
   ]
  },
  {
   "cell_type": "code",
   "execution_count": 32,
   "metadata": {
    "collapsed": false
   },
   "outputs": [
    {
     "name": "stdout",
     "output_type": "stream",
     "text": [
      "10000\n"
     ]
    }
   ],
   "source": [
    "metal_lyrics_list = []\n",
    "for x in training_genre_lyrics.iterrows():\n",
    "    if x[1][0] == 'Metal':\n",
    "        metal_lyrics_list.append(x[1][1])\n",
    "metal_lyrics = pd.DataFrame({\"ly\": metal_lyrics_list})\n",
    "print (len(metal_lyrics))"
   ]
  },
  {
   "cell_type": "code",
   "execution_count": 33,
   "metadata": {
    "collapsed": false
   },
   "outputs": [
    {
     "name": "stdout",
     "output_type": "stream",
     "text": [
      "10000\n"
     ]
    }
   ],
   "source": [
    "country_lyrics_list = []\n",
    "for x in training_genre_lyrics.iterrows():\n",
    "    if x[1][0] == 'Country':\n",
    "        country_lyrics_list.append(x[1][1])\n",
    "country_lyrics = pd.DataFrame({\"ly\": country_lyrics_list})\n",
    "print (len(country_lyrics))"
   ]
  },
  {
   "cell_type": "code",
   "execution_count": 34,
   "metadata": {
    "collapsed": false
   },
   "outputs": [
    {
     "name": "stdout",
     "output_type": "stream",
     "text": [
      "10000\n"
     ]
    }
   ],
   "source": [
    "#goes thru training artist to find artist name for each genre\n",
    "pop_artist = []\n",
    "for x in training_artist.iterrows():\n",
    "    if x[1][0] == 'Pop':\n",
    "        pop_artist.append(x[1][1])\n",
    "pop_artist = pd.DataFrame({\"artistName\": pop_artist})\n",
    "print (len(pop_artist))"
   ]
  },
  {
   "cell_type": "code",
   "execution_count": 35,
   "metadata": {
    "collapsed": false
   },
   "outputs": [
    {
     "name": "stdout",
     "output_type": "stream",
     "text": [
      "10000\n"
     ]
    }
   ],
   "source": [
    "rock_artist = []\n",
    "for x in training_artist.iterrows():\n",
    "    if x[1][0] == 'Rock':\n",
    "        rock_artist.append(x[1][1])\n",
    "rock_artist = pd.DataFrame({\"artistName\": rock_artist})\n",
    "print (len(rock_artist))"
   ]
  },
  {
   "cell_type": "code",
   "execution_count": null,
   "metadata": {
    "collapsed": true
   },
   "outputs": [],
   "source": []
  },
  {
   "cell_type": "code",
   "execution_count": 36,
   "metadata": {
    "collapsed": false
   },
   "outputs": [
    {
     "name": "stdout",
     "output_type": "stream",
     "text": [
      "10000\n"
     ]
    }
   ],
   "source": [
    "hiphop_artist = []\n",
    "for x in training_artist.iterrows():\n",
    "    if x[1][0] == 'Hip-Hop':\n",
    "        hiphop_artist.append(x[1][1])\n",
    "hiphop_artist = pd.DataFrame({\"artistName\": hiphop_artist})\n",
    "print (len(hiphop_artist))"
   ]
  },
  {
   "cell_type": "code",
   "execution_count": 37,
   "metadata": {
    "collapsed": false
   },
   "outputs": [
    {
     "name": "stdout",
     "output_type": "stream",
     "text": [
      "10000\n"
     ]
    }
   ],
   "source": [
    "metal_artist = []\n",
    "for x in training_artist.iterrows():\n",
    "    if x[1][0] == 'Metal':\n",
    "        metal_artist.append(x[1][1])\n",
    "metal_artist = pd.DataFrame({\"artistName\": metal_artist})\n",
    "print (len(metal_artist))"
   ]
  },
  {
   "cell_type": "code",
   "execution_count": 38,
   "metadata": {
    "collapsed": false
   },
   "outputs": [
    {
     "name": "stdout",
     "output_type": "stream",
     "text": [
      "10000\n"
     ]
    }
   ],
   "source": [
    "country_artist = []\n",
    "for x in training_artist.iterrows():\n",
    "    if x[1][0] == 'Country':\n",
    "        country_artist.append(x[1][1])\n",
    "country_artist = pd.DataFrame({\"artist\": country_artist})\n",
    "print (len(country_artist))"
   ]
  },
  {
   "cell_type": "code",
   "execution_count": 39,
   "metadata": {
    "collapsed": true
   },
   "outputs": [],
   "source": [
    "#stop words\n",
    "ENGLISH_STOP_WORDS = frozenset([\n",
    "    \"a\", \"about\", \"above\", \"across\", \"after\", \"afterwards\", \"again\", \"against\",\n",
    "    \"all\", \"almost\", \"alone\", \"along\", \"already\", \"also\", \"although\", \"always\",\n",
    "    \"am\", \"among\", \"amongst\", \"amoungst\", \"amount\", \"an\", \"and\", \"another\",\n",
    "    \"any\", \"anyhow\", \"anyone\", \"anything\", \"anyway\", \"anywhere\", \"are\",\n",
    "    \"around\", \"as\", \"at\", \"back\", \"be\", \"became\", \"because\", \"become\",\n",
    "    \"becomes\", \"becoming\", \"been\", \"before\", \"beforehand\", \"behind\", \"being\",\n",
    "    \"below\", \"beside\", \"besides\", \"between\", \"beyond\", \"bill\", \"both\",\n",
    "    \"bottom\", \"but\", \"by\", \"call\", \"can\", \"cannot\", \"cant\", \"co\", \"con\",\n",
    "    \"could\", \"couldnt\", \"cry\", \"de\", \"describe\", \"detail\", \"do\", \"done\",\n",
    "    \"down\", \"due\", \"during\", \"each\", \"eg\", \"eight\", \"either\", \"eleven\", \"else\",\n",
    "    \"elsewhere\", \"empty\", \"enough\", \"etc\", \"even\", \"ever\", \"every\", \"everyone\",\n",
    "    \"everything\", \"everywhere\", \"except\", \"few\", \"fifteen\", \"fifty\", \"fill\",\n",
    "    \"find\", \"fire\", \"first\", \"five\", \"for\", \"former\", \"formerly\", \"forty\",\n",
    "    \"found\", \"four\", \"from\", \"front\", \"full\", \"further\", \"get\", \"give\", \"go\",\n",
    "    \"had\", \"has\", \"hasnt\", \"have\", \"he\", \"hence\", \"her\", \"here\", \"hereafter\",\n",
    "    \"hereby\", \"herein\", \"hereupon\", \"hers\", \"herself\", \"him\", \"himself\", \"his\",\n",
    "    \"how\", \"however\", \"hundred\", \"i\", \"ie\", \"if\", \"in\", \"inc\", \"indeed\",\n",
    "    \"interest\", \"into\", \"is\", \"it\", \"its\", \"itself\", \"keep\", \"last\", \"latter\",\n",
    "    \"latterly\", \"least\", \"less\", \"ltd\", \"made\", \"many\", \"may\", \"me\",\n",
    "    \"meanwhile\", \"might\", \"mill\", \"mine\", \"more\", \"moreover\", \"most\", \"mostly\",\n",
    "    \"move\", \"much\", \"must\", \"my\", \"myself\", \"name\", \"namely\", \"neither\",\n",
    "    \"never\", \"nevertheless\", \"next\", \"nine\", \"no\", \"nobody\", \"none\", \"noone\",\n",
    "    \"nor\", \"not\", \"nothing\", \"now\", \"nowhere\", \"of\", \"off\", \"often\", \"on\",\n",
    "    \"once\", \"one\", \"only\", \"onto\", \"or\", \"other\", \"others\", \"otherwise\", \"our\",\n",
    "    \"ours\", \"ourselves\", \"out\", \"over\", \"own\", \"part\", \"per\", \"perhaps\",\n",
    "    \"please\", \"put\", \"rather\", \"re\", \"same\", \"see\", \"seem\", \"seemed\",\n",
    "    \"seeming\", \"seems\", \"serious\", \"several\", \"she\", \"should\", \"show\", \"side\",\n",
    "    \"since\", \"sincere\", \"six\", \"sixty\", \"so\", \"some\", \"somehow\", \"someone\",\n",
    "    \"something\", \"sometime\", \"sometimes\", \"somewhere\", \"still\", \"such\",\n",
    "    \"system\", \"take\", \"ten\", \"than\", \"that\", \"the\", \"their\", \"them\",\n",
    "    \"themselves\", \"then\", \"thence\", \"there\", \"thereafter\", \"thereby\",\n",
    "    \"therefore\", \"therein\", \"thereupon\", \"these\", \"they\", \"thick\", \"thin\",\n",
    "    \"third\", \"this\", \"those\", \"though\", \"three\", \"through\", \"throughout\",\n",
    "    \"thru\", \"thus\", \"to\", \"together\", \"too\", \"top\", \"toward\", \"towards\",\n",
    "    \"twelve\", \"twenty\", \"two\", \"un\", \"under\", \"until\", \"up\", \"upon\", \"us\",\n",
    "    \"very\", \"via\", \"was\", \"we\", \"well\", \"were\", \"what\", \"whatever\", \"when\",\n",
    "    \"whence\", \"whenever\", \"where\", \"whereafter\", \"whereas\", \"whereby\",\n",
    "    \"wherein\", \"whereupon\", \"wherever\", \"whether\", \"which\", \"while\", \"whither\",\n",
    "    \"who\", \"whoever\", \"whole\", \"whom\", \"whose\", \"why\", \"will\", \"with\",\n",
    "    \"within\", \"without\", \"would\", \"yet\", \"you\", \"your\", \"yours\", \"yourself\",\n",
    "    \"yourselves\"])"
   ]
  },
  {
   "cell_type": "code",
   "execution_count": 40,
   "metadata": {
    "collapsed": true
   },
   "outputs": [],
   "source": [
    "# Takes a dataframe/list containing lyrics and returns a tuple with the terms and weights \n",
    "def vectorize_feature(genre_lyrics, num_words):\n",
    "    stemmer = SnowballStemmer(\"english\")\n",
    "    genre_lyrics['stemmed'] = genre_lyrics.ly.map(lambda x: ' '.join([stemmer.stem(y) for y in x.split(' ')]))\n",
    "    #genre_lyrics.stemmed.head()\n",
    "    \n",
    "    cvec = CountVectorizer(min_df=1,max_df= 0.5, ngram_range=(1,3), stop_words= ENGLISH_STOP_WORDS)\n",
    "    cvec.fit(genre_lyrics.stemmed)\n",
    "    \n",
    "    # -- use for debugging -- x = list(islice(cvec.vocabulary_.items(), 20))\n",
    "    \n",
    "    cvec_counts = cvec.transform(genre_lyrics.stemmed)\n",
    "    \n",
    "    transformer = TfidfTransformer()\n",
    "    transformed_weights = transformer.fit_transform(cvec_counts)\n",
    "    \n",
    "    weights = np.asarray(transformed_weights.mean(axis=0)).ravel().tolist()\n",
    "    weights_df = pd.DataFrame({'term': cvec.get_feature_names(), 'weight': weights})\n",
    "    weights_df = weights_df.sort_values(by='weight', ascending=False)[:num_words]\n",
    "    \n",
    "    #term_weight_list = []\n",
    "    term_weight_dict = defaultdict(int)\n",
    "    for _, row in weights_df.iterrows():\n",
    "        # Returns a list of (term, weight) tuples\n",
    "        #term_phrase_list.append((row['term'], row['weight']))\n",
    "        term_weight_dict[row['term']] = row['weight']\n",
    "    \n",
    "    # return term_weight_list\n",
    "    return term_weight_dict"
   ]
  },
  {
   "cell_type": "code",
   "execution_count": null,
   "metadata": {
    "collapsed": true
   },
   "outputs": [],
   "source": []
  },
  {
   "cell_type": "code",
   "execution_count": 41,
   "metadata": {
    "collapsed": true
   },
   "outputs": [],
   "source": [
    "rock_dicts = vectorize_feature(rock_lyrics, 1000)\n",
    "pop_dicts = vectorize_feature(pop_lyrics, 1000)\n",
    "hiphop_dicts = vectorize_feature(hiphop_lyrics, 1000)\n",
    "metal_dicts = vectorize_feature(metal_lyrics, 1000)\n",
    "country_dicts = vectorize_feature(country_lyrics, 1000)"
   ]
  },
  {
   "cell_type": "code",
   "execution_count": 24,
   "metadata": {
    "collapsed": true
   },
   "outputs": [],
   "source": [
    "#print (df(rock_dicts.keys()))"
   ]
  },
  {
   "cell_type": "code",
   "execution_count": 25,
   "metadata": {
    "collapsed": true
   },
   "outputs": [],
   "source": [
    "# counter = 0\n",
    "# rock = list(rock_dicts.keys())\n",
    "# pop = list(pop_dicts.keys())\n",
    "# for i in range(1000):\n",
    "#     if rock[i] == pop[i]:\n",
    "#         counter += 1\n",
    "genre = {\n",
    "    'Rock': 0,\n",
    "    'Pop' : 1,\n",
    "    'Hip-Hop' : 2,\n",
    "    'Metal' : 3,\n",
    "    'Country' : 4,\n",
    "}\n"
   ]
  },
  {
   "cell_type": "code",
   "execution_count": 26,
   "metadata": {
    "collapsed": true
   },
   "outputs": [],
   "source": [
    "# Given new lyrics, return list of sums of weights\n",
    "def find_weights(artist, lyrics):\n",
    "    weight_list = [0]*5\n",
    "    stemmer = SnowballStemmer(\"english\")\n",
    "    stemmed_lyrics = ' '.join([stemmer.stem(y) for y in lyrics.split(' ')])\n",
    "    for i in stemmed_lyrics.split():\n",
    "        weight_list[0] += rock_dicts[i]\n",
    "        weight_list[1] += pop_dicts[i]\n",
    "        weight_list[2] += hiphop_dicts[i]\n",
    "        weight_list[3] += metal_dicts[i]\n",
    "        weight_list[4] += country_dicts[i]\n",
    "    if artist in rock_artist:\n",
    "        return genre['Rock']\n",
    "    elif artist in pop_artist:\n",
    "        return genre['Pop']\n",
    "    elif artist in hiphop_artist:\n",
    "        return genre['Hip_Hop']\n",
    "    elif artist in metal_artist:\n",
    "        return genre['Metal']\n",
    "    elif artist in country_artist:\n",
    "        return genre['Country']\n",
    "    else:\n",
    "        return weight_list.index(max (weight_list))"
   ]
  },
  {
   "cell_type": "code",
   "execution_count": 27,
   "metadata": {
    "collapsed": true
   },
   "outputs": [],
   "source": [
    "#find_weights('evile',training_genre_lyrics.lyrics[2])"
   ]
  },
  {
   "cell_type": "code",
   "execution_count": 28,
   "metadata": {
    "collapsed": true
   },
   "outputs": [],
   "source": [
    "genre = {\n",
    "    'Rock': 0,\n",
    "    'Pop' : 1,\n",
    "    'Hip-Hop' : 2,\n",
    "    'Metal' : 3,\n",
    "    'Country' : 4,\n",
    "}"
   ]
  },
  {
   "cell_type": "code",
   "execution_count": 29,
   "metadata": {
    "collapsed": true
   },
   "outputs": [],
   "source": [
    "x_train = [find_weights(x,y) for (x,y) in zip(training_artist.artist,training_genre_lyrics.lyrics)]\n",
    "#print (x_train)"
   ]
  },
  {
   "cell_type": "code",
   "execution_count": 30,
   "metadata": {
    "collapsed": true
   },
   "outputs": [],
   "source": [
    "#print (x_train)"
   ]
  },
  {
   "cell_type": "code",
   "execution_count": 31,
   "metadata": {
    "collapsed": true
   },
   "outputs": [],
   "source": [
    "y_train = [genre[x] for x in training_genre_lyrics.genre]"
   ]
  },
  {
   "cell_type": "code",
   "execution_count": 32,
   "metadata": {
    "collapsed": false
   },
   "outputs": [
    {
     "name": "stdout",
     "output_type": "stream",
     "text": [
      "0.41986\n"
     ]
    }
   ],
   "source": [
    "acc = [(x == y) for (x,y) in zip(x_train, y_train)]\n",
    "# acc = sum(acc) * 1.0/50000\n",
    "# print (acc)\n",
    "counter = 0\n",
    "for i in range(len(acc)):\n",
    "    if acc[i] == True:\n",
    "        counter += 1\n",
    "print (counter/50000)\n"
   ]
  },
  {
   "cell_type": "code",
   "execution_count": 33,
   "metadata": {
    "collapsed": true
   },
   "outputs": [],
   "source": [
    "# x_valid = [find_weights(x,y) for (x,y) in zip(validation_artist.artist,validation_genre_lyrics.lyrics)]\n",
    "# y_valid = [genre[x] for x in validation_genre_lyrics.genre]\n",
    "x_valid = x_train[25000:]\n",
    "y_valid = y_train[25000:]"
   ]
  },
  {
   "cell_type": "code",
   "execution_count": 34,
   "metadata": {
    "collapsed": false
   },
   "outputs": [
    {
     "name": "stdout",
     "output_type": "stream",
     "text": [
      "C = 0.01: validation accuracy = 0.28896\n",
      "C = 0.1: validation accuracy = 0.28896\n",
      "C = 1: validation accuracy = 0.28896\n",
      "C = 10: validation accuracy = 0.2564\n",
      "C = 100: validation accuracy = 0.24444\n"
     ]
    }
   ],
   "source": [
    "from sklearn.svm import LinearSVC\n",
    "from sklearn import svm\n",
    "x_train = np.asarray(x_train).reshape(-1, 1)\n",
    "x_valid = np.asarray(x_valid).reshape(-1, 1)\n",
    "bestAcc = 0\n",
    "bestCLF = None\n",
    "for c in 0.01, 0.1, 1, 10, 100:\n",
    "  clf = svm.LinearSVC(C = c) # Linear SVM is faster\n",
    "  clf.fit(x_train, y_train)\n",
    "  predictions = [int(x) for x in clf.predict(x_valid)]\n",
    "  acc = [(x == y) for (x,y) in zip(predictions, y_valid)]\n",
    "  acc = sum(acc) * 1.0 / len(acc)\n",
    "  if acc > bestAcc:\n",
    "    bestAcc = acc\n",
    "    bestCLF = clf\n",
    "  print(\"C = \" + str(c) + \": validation accuracy = \" + str(acc))"
   ]
  },
  {
   "cell_type": "code",
   "execution_count": 35,
   "metadata": {
    "collapsed": true
   },
   "outputs": [],
   "source": [
    "x_test = [find_weights(x,y) for (x,y) in zip(testing_artist,testing_genre_lyrics.lyrics)]\n",
    "y_test = [genre[x] for x in testing_genre_lyrics.genre]"
   ]
  },
  {
   "cell_type": "code",
   "execution_count": null,
   "metadata": {
    "collapsed": true
   },
   "outputs": [],
   "source": []
  },
  {
   "cell_type": "code",
   "execution_count": 36,
   "metadata": {
    "collapsed": false
   },
   "outputs": [
    {
     "name": "stdout",
     "output_type": "stream",
     "text": [
      "C = 0.01: validation accuracy = 0.1987\n",
      "C = 0.1: validation accuracy = 0.1987\n",
      "C = 1: validation accuracy = 0.1987\n",
      "C = 10: validation accuracy = 0.2028\n",
      "C = 100: validation accuracy = 0.2049\n"
     ]
    }
   ],
   "source": [
    "x_test = np.asarray(x_train).reshape(-1, 1)\n",
    "x_test = np.asarray(x_test).reshape(-1, 1)\n",
    "bestAcc = 0\n",
    "bestCLF = None\n",
    "for c in 0.01, 0.1, 1, 10, 100:\n",
    "  clf = svm.LinearSVC(C = c) # Linear SVM is faster\n",
    "  clf.fit(x_train, y_train)\n",
    "  predictions = [int(x) for x in clf.predict(x_test)]\n",
    "  acc = [(x == y) for (x,y) in zip(predictions, y_test)]\n",
    "  acc = sum(acc) * 1.0 / len(acc)\n",
    "  if acc > bestAcc:\n",
    "    bestAcc = acc\n",
    "    bestCLF = clf\n",
    "  print(\"C = \" + str(c) + \": validation accuracy = \" + str(acc))"
   ]
  },
  {
   "cell_type": "code",
   "execution_count": 37,
   "metadata": {
    "collapsed": true
   },
   "outputs": [],
   "source": [
    " from sklearn.metrics import r2_score"
   ]
  },
  {
   "cell_type": "code",
   "execution_count": 38,
   "metadata": {
    "collapsed": false
   },
   "outputs": [
    {
     "data": {
      "text/plain": [
       "-0.85746681867410701"
      ]
     },
     "execution_count": 38,
     "metadata": {},
     "output_type": "execute_result"
    }
   ],
   "source": [
    "r2_score(x_train, y_train)"
   ]
  },
  {
   "cell_type": "code",
   "execution_count": 52,
   "metadata": {
    "collapsed": true
   },
   "outputs": [],
   "source": [
    "# Get jaccard similarity\n",
    "def get_similarity(set_1, set_2):\n",
    "    intersection = len(list(set(set_1) & set(set_2)))\n",
    "    union = len(set(list(set(set_1) | set(set_2))))\n",
    "    return (intersection)/(union)"
   ]
  },
  {
   "cell_type": "code",
   "execution_count": 53,
   "metadata": {
    "collapsed": false
   },
   "outputs": [],
   "source": [
    "rock_keys = rock_dicts.keys()\n",
    "pop_keys = pop_dicts.keys()\n",
    "hiphop_keys = hiphop_dicts.keys()\n",
    "metal_keys = metal_dicts.keys()\n",
    "country_keys = country_dicts.keys()"
   ]
  },
  {
   "cell_type": "code",
   "execution_count": 54,
   "metadata": {
    "collapsed": false
   },
   "outputs": [],
   "source": [
    "rock_pop_sim = get_similarity(rock_keys, pop_keys)\n",
    "rock_hiphop_sim = get_similarity(rock_keys, hiphop_keys)\n",
    "rock_metal_sim = get_similarity(rock_keys, metal_keys)\n",
    "rock_country_sim = get_similarity(rock_keys, country_keys)\n",
    "\n",
    "pop_hiphop_sim = get_similarity(pop_keys, hiphop_keys)\n",
    "pop_metal_sim = get_similarity(pop_keys, metal_keys)\n",
    "pop_country_sim = get_similarity(pop_keys, country_keys)\n",
    "\n",
    "hiphop_metal_sim = get_similarity(hiphop_keys, metal_keys)\n",
    "hiphop_country_sim = get_similarity(hiphop_keys, country_keys)\n",
    "\n",
    "metal_country_sim = get_similarity(metal_keys, country_keys)"
   ]
  },
  {
   "cell_type": "code",
   "execution_count": 58,
   "metadata": {
    "collapsed": false
   },
   "outputs": [],
   "source": [
    "np.random.seed(0)\n",
    "import seaborn as sns; sns.set()\n",
    "uniform_data = np.random.rand(10, 12)\n",
    "ax = sns.heatmap(uniform_data)"
   ]
  },
  {
   "cell_type": "code",
   "execution_count": 59,
   "metadata": {
    "collapsed": false
   },
   "outputs": [
    {
     "data": {
      "text/plain": [
       "<matplotlib.axes._subplots.AxesSubplot at 0x1bb9a924f28>"
      ]
     },
     "execution_count": 59,
     "metadata": {},
     "output_type": "execute_result"
    }
   ],
   "source": [
    "ax"
   ]
  },
  {
   "cell_type": "code",
   "execution_count": 67,
   "metadata": {
    "collapsed": true
   },
   "outputs": [],
   "source": [
    "import matplotlib.pyplot as plt"
   ]
  },
  {
   "cell_type": "code",
   "execution_count": 92,
   "metadata": {
    "collapsed": false
   },
   "outputs": [
    {
     "data": {
      "text/plain": [
       "matrix([[ 1.        ,  0.66666667,  0.50037509,  0.52671756,  0.63532298],\n",
       "        [ 0.66666667,  1.        ,  0.4587892 ,  0.43575018,  0.57480315],\n",
       "        [ 0.50037509,  0.4587892 ,  1.        ,  0.36054422,  0.42348754],\n",
       "        [ 0.52671756,  0.43575018,  0.36054422,  1.        ,  0.42450142],\n",
       "        [ 0.63532298,  0.57480315,  0.42348754,  0.42450142,  1.        ]])"
      ]
     },
     "execution_count": 92,
     "metadata": {},
     "output_type": "execute_result"
    }
   ],
   "source": [
    "# rock __ pop __ hiphop __ metal __ country\n",
    "\n",
    "similarity_matrix = np.matrix([[1, rock_pop_sim, rock_hiphop_sim, rock_metal_sim, rock_country_sim], \\\n",
    "                               [rock_pop_sim, 1, pop_hiphop_sim, pop_metal_sim, pop_country_sim], \\\n",
    "                              [rock_hiphop_sim, pop_hiphop_sim, 1, hiphop_metal_sim, hiphop_country_sim],\\\n",
    "                              [rock_metal_sim, pop_metal_sim, hiphop_metal_sim, 1, metal_country_sim],\n",
    "                              [rock_country_sim, pop_country_sim, hiphop_country_sim, metal_country_sim, 1]])\n",
    "similarity_matrix"
   ]
  },
  {
   "cell_type": "code",
   "execution_count": 103,
   "metadata": {
    "collapsed": false
   },
   "outputs": [
    {
     "data": {
      "text/plain": [
       "[<matplotlib.text.Text at 0x1bbbba55b38>,\n",
       " <matplotlib.text.Text at 0x1bbbba31358>,\n",
       " <matplotlib.text.Text at 0x1bb9875c208>,\n",
       " <matplotlib.text.Text at 0x1bb9875cc88>,\n",
       " <matplotlib.text.Text at 0x1bb98762748>]"
      ]
     },
     "execution_count": 103,
     "metadata": {},
     "output_type": "execute_result"
    }
   ],
   "source": [
    "labels = [\"Rock\", \"Pop\", \"Hip-Hop\", \"Metal\", \"Country\"]\n",
    "\n",
    "ax = sns.heatmap(similarity_matrix, annot=True, fmt=\"f\", xticklabels = labels, yticklabels = labels)\n",
    "ax.set_xticklabels(labels, rotation = 70)\n",
    "ax.set_yticklabels(reversed(labels), rotation = 45)"
   ]
  },
  {
   "cell_type": "code",
   "execution_count": 104,
   "metadata": {
    "collapsed": false
   },
   "outputs": [
    {
     "data": {
      "image/png": "[encoded data removed]",
      "text/plain": [
       "<matplotlib.figure.Figure at 0x1bb9a8cda58>"
      ]
     },
     "metadata": {},
     "output_type": "display_data"
    }
   ],
   "source": [
    "plt.show()"
   ]
  },
  {
   "cell_type": "code",
   "execution_count": null,
   "metadata": {
    "collapsed": true
   },
   "outputs": [],
   "source": []
  }
 ],
 "metadata": {
  "kernelspec": {
   "display_name": "Python 3",
   "language": "python",
   "name": "python3"
  },
  "language_info": {
   "codemirror_mode": {
    "name": "ipython",
    "version": 3
   },
   "file_extension": ".py",
   "mimetype": "text/x-python",
   "name": "python",
   "nbconvert_exporter": "python",
   "pygments_lexer": "ipython3",
   "version": "3.6.0"
  }
 },
 "nbformat": 4,
 "nbformat_minor": 2
}

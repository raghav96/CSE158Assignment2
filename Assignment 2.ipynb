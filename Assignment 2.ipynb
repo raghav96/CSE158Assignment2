{
 "cells": [
  {
   "cell_type": "code",
   "execution_count": 1,
   "metadata": {
    "collapsed": true
   },
   "outputs": [],
   "source": [
    "import pandas as pd\n",
    "import numpy as np\n",
    "import math"
   ]
  },
  {
   "cell_type": "code",
   "execution_count": 2,
   "metadata": {
    "collapsed": true
   },
   "outputs": [],
   "source": [
    "data = pd.read_csv(\"lyrics.csv\")"
   ]
  },
  {
   "cell_type": "code",
   "execution_count": 3,
   "metadata": {
    "collapsed": true
   },
   "outputs": [],
   "source": [
    "data = data.replace({'\\[instrumental\\]' : math.nan})\n",
    "data = data.dropna()\n",
    "data = data[data.genre != \"Not Available\"]\n",
    "data = data.replace({'\\n': ' '}, regex=True)"
   ]
  },
  {
   "cell_type": "code",
   "execution_count": 4,
   "metadata": {},
   "outputs": [
    {
     "data": {
      "text/plain": [
       "242615"
      ]
     },
     "execution_count": 4,
     "metadata": {},
     "output_type": "execute_result"
    }
   ],
   "source": [
    "len(data)"
   ]
  },
  {
   "cell_type": "code",
   "execution_count": null,
   "metadata": {
    "collapsed": true
   },
   "outputs": [],
   "source": []
  },
  {
   "cell_type": "code",
   "execution_count": 5,
   "metadata": {},
   "outputs": [
    {
     "data": {
      "text/html": [
       "<div>\n",
       "<style>\n",
       "    .dataframe thead tr:only-child th {\n",
       "        text-align: right;\n",
       "    }\n",
       "\n",
       "    .dataframe thead th {\n",
       "        text-align: left;\n",
       "    }\n",
       "\n",
       "    .dataframe tbody tr th {\n",
       "        vertical-align: top;\n",
       "    }\n",
       "</style>\n",
       "<table border=\"1\" class=\"dataframe\">\n",
       "  <thead>\n",
       "    <tr style=\"text-align: right;\">\n",
       "      <th></th>\n",
       "      <th>index</th>\n",
       "      <th>song</th>\n",
       "      <th>year</th>\n",
       "      <th>artist</th>\n",
       "      <th>genre</th>\n",
       "      <th>lyrics</th>\n",
       "    </tr>\n",
       "  </thead>\n",
       "  <tbody>\n",
       "    <tr>\n",
       "      <th>0</th>\n",
       "      <td>0</td>\n",
       "      <td>ego-remix</td>\n",
       "      <td>2009</td>\n",
       "      <td>beyonce-knowles</td>\n",
       "      <td>Pop</td>\n",
       "      <td>Oh baby, how you doing? You know I'm gonna cut...</td>\n",
       "    </tr>\n",
       "    <tr>\n",
       "      <th>1</th>\n",
       "      <td>1</td>\n",
       "      <td>then-tell-me</td>\n",
       "      <td>2009</td>\n",
       "      <td>beyonce-knowles</td>\n",
       "      <td>Pop</td>\n",
       "      <td>playin' everything so easy, it's like you seem...</td>\n",
       "    </tr>\n",
       "    <tr>\n",
       "      <th>2</th>\n",
       "      <td>2</td>\n",
       "      <td>honesty</td>\n",
       "      <td>2009</td>\n",
       "      <td>beyonce-knowles</td>\n",
       "      <td>Pop</td>\n",
       "      <td>If you search For tenderness It isn't hard to ...</td>\n",
       "    </tr>\n",
       "    <tr>\n",
       "      <th>3</th>\n",
       "      <td>3</td>\n",
       "      <td>you-are-my-rock</td>\n",
       "      <td>2009</td>\n",
       "      <td>beyonce-knowles</td>\n",
       "      <td>Pop</td>\n",
       "      <td>Oh oh oh I, oh oh oh I [Verse 1:] If I wrote a...</td>\n",
       "    </tr>\n",
       "    <tr>\n",
       "      <th>4</th>\n",
       "      <td>4</td>\n",
       "      <td>black-culture</td>\n",
       "      <td>2009</td>\n",
       "      <td>beyonce-knowles</td>\n",
       "      <td>Pop</td>\n",
       "      <td>Party the people, the people the party it's po...</td>\n",
       "    </tr>\n",
       "    <tr>\n",
       "      <th>5</th>\n",
       "      <td>5</td>\n",
       "      <td>all-i-could-do-was-cry</td>\n",
       "      <td>2009</td>\n",
       "      <td>beyonce-knowles</td>\n",
       "      <td>Pop</td>\n",
       "      <td>I heard Church bells ringing I heard A choir s...</td>\n",
       "    </tr>\n",
       "    <tr>\n",
       "      <th>6</th>\n",
       "      <td>6</td>\n",
       "      <td>once-in-a-lifetime</td>\n",
       "      <td>2009</td>\n",
       "      <td>beyonce-knowles</td>\n",
       "      <td>Pop</td>\n",
       "      <td>This is just another day that I would spend Wa...</td>\n",
       "    </tr>\n",
       "    <tr>\n",
       "      <th>7</th>\n",
       "      <td>7</td>\n",
       "      <td>waiting</td>\n",
       "      <td>2009</td>\n",
       "      <td>beyonce-knowles</td>\n",
       "      <td>Pop</td>\n",
       "      <td>Waiting, waiting, waiting, waiting Waiting, wa...</td>\n",
       "    </tr>\n",
       "    <tr>\n",
       "      <th>8</th>\n",
       "      <td>8</td>\n",
       "      <td>slow-love</td>\n",
       "      <td>2009</td>\n",
       "      <td>beyonce-knowles</td>\n",
       "      <td>Pop</td>\n",
       "      <td>[Verse 1:] I read all of the magazines while w...</td>\n",
       "    </tr>\n",
       "    <tr>\n",
       "      <th>9</th>\n",
       "      <td>9</td>\n",
       "      <td>why-don-t-you-love-me</td>\n",
       "      <td>2009</td>\n",
       "      <td>beyonce-knowles</td>\n",
       "      <td>Pop</td>\n",
       "      <td>N-n-now, honey You better sit down and look ar...</td>\n",
       "    </tr>\n",
       "  </tbody>\n",
       "</table>\n",
       "</div>"
      ],
      "text/plain": [
       "   index                    song  year           artist genre  \\\n",
       "0      0               ego-remix  2009  beyonce-knowles   Pop   \n",
       "1      1            then-tell-me  2009  beyonce-knowles   Pop   \n",
       "2      2                 honesty  2009  beyonce-knowles   Pop   \n",
       "3      3         you-are-my-rock  2009  beyonce-knowles   Pop   \n",
       "4      4           black-culture  2009  beyonce-knowles   Pop   \n",
       "5      5  all-i-could-do-was-cry  2009  beyonce-knowles   Pop   \n",
       "6      6      once-in-a-lifetime  2009  beyonce-knowles   Pop   \n",
       "7      7                 waiting  2009  beyonce-knowles   Pop   \n",
       "8      8               slow-love  2009  beyonce-knowles   Pop   \n",
       "9      9   why-don-t-you-love-me  2009  beyonce-knowles   Pop   \n",
       "\n",
       "                                              lyrics  \n",
       "0  Oh baby, how you doing? You know I'm gonna cut...  \n",
       "1  playin' everything so easy, it's like you seem...  \n",
       "2  If you search For tenderness It isn't hard to ...  \n",
       "3  Oh oh oh I, oh oh oh I [Verse 1:] If I wrote a...  \n",
       "4  Party the people, the people the party it's po...  \n",
       "5  I heard Church bells ringing I heard A choir s...  \n",
       "6  This is just another day that I would spend Wa...  \n",
       "7  Waiting, waiting, waiting, waiting Waiting, wa...  \n",
       "8  [Verse 1:] I read all of the magazines while w...  \n",
       "9  N-n-now, honey You better sit down and look ar...  "
      ]
     },
     "execution_count": 5,
     "metadata": {},
     "output_type": "execute_result"
    }
   ],
   "source": [
    "data.head(10)"
   ]
  },
  {
   "cell_type": "code",
   "execution_count": 6,
   "metadata": {
    "collapsed": true
   },
   "outputs": [],
   "source": [
    "training_50k = data.sample(n=50000, replace=True)\n",
    "validation_50k = data.sample(n=50000, replace=True)\n",
    "testing_50k = data.sample(n=50000, replace=True)"
   ]
  },
  {
   "cell_type": "code",
   "execution_count": 7,
   "metadata": {},
   "outputs": [
    {
     "data": {
      "text/html": [
       "<div>\n",
       "<style>\n",
       "    .dataframe thead tr:only-child th {\n",
       "        text-align: right;\n",
       "    }\n",
       "\n",
       "    .dataframe thead th {\n",
       "        text-align: left;\n",
       "    }\n",
       "\n",
       "    .dataframe tbody tr th {\n",
       "        vertical-align: top;\n",
       "    }\n",
       "</style>\n",
       "<table border=\"1\" class=\"dataframe\">\n",
       "  <thead>\n",
       "    <tr style=\"text-align: right;\">\n",
       "      <th></th>\n",
       "      <th>index</th>\n",
       "      <th>song</th>\n",
       "      <th>year</th>\n",
       "      <th>artist</th>\n",
       "      <th>genre</th>\n",
       "      <th>lyrics</th>\n",
       "    </tr>\n",
       "  </thead>\n",
       "  <tbody>\n",
       "    <tr>\n",
       "      <th>148472</th>\n",
       "      <td>148472</td>\n",
       "      <td>instant-karma</td>\n",
       "      <td>2007</td>\n",
       "      <td>adolescents</td>\n",
       "      <td>Rock</td>\n",
       "      <td>Instant Karma's gonna get you Gonna knock you ...</td>\n",
       "    </tr>\n",
       "    <tr>\n",
       "      <th>211237</th>\n",
       "      <td>211237</td>\n",
       "      <td>it-s-so-hard-to-say-goodbye-to-yesterday</td>\n",
       "      <td>2011</td>\n",
       "      <td>boyz-ii-men</td>\n",
       "      <td>Pop</td>\n",
       "      <td>How do I say goodbye to what we had? The good ...</td>\n",
       "    </tr>\n",
       "    <tr>\n",
       "      <th>270367</th>\n",
       "      <td>270367</td>\n",
       "      <td>wooden-nickels</td>\n",
       "      <td>2006</td>\n",
       "      <td>eels</td>\n",
       "      <td>Rock</td>\n",
       "      <td>Went down by the old courthouse Stumbling thro...</td>\n",
       "    </tr>\n",
       "    <tr>\n",
       "      <th>108224</th>\n",
       "      <td>108224</td>\n",
       "      <td>snip-snip-snip</td>\n",
       "      <td>2006</td>\n",
       "      <td>chumbawamba</td>\n",
       "      <td>Rock</td>\n",
       "      <td>Well madam how'd you like it, maybe plenty off...</td>\n",
       "    </tr>\n",
       "    <tr>\n",
       "      <th>91265</th>\n",
       "      <td>91265</td>\n",
       "      <td>voice-of-unreason</td>\n",
       "      <td>2007</td>\n",
       "      <td>cryptopsy</td>\n",
       "      <td>Metal</td>\n",
       "      <td>Ossuary for the misinformed You´d end up being...</td>\n",
       "    </tr>\n",
       "    <tr>\n",
       "      <th>269337</th>\n",
       "      <td>269337</td>\n",
       "      <td>the-curse-of-nosferatu</td>\n",
       "      <td>2006</td>\n",
       "      <td>avatar</td>\n",
       "      <td>Metal</td>\n",
       "      <td>The night is our day, the darkness is our ligh...</td>\n",
       "    </tr>\n",
       "    <tr>\n",
       "      <th>281954</th>\n",
       "      <td>281954</td>\n",
       "      <td>stars</td>\n",
       "      <td>2006</td>\n",
       "      <td>blackfoot</td>\n",
       "      <td>Rock</td>\n",
       "      <td>The time has come for me to say Things I shoul...</td>\n",
       "    </tr>\n",
       "    <tr>\n",
       "      <th>219052</th>\n",
       "      <td>219052</td>\n",
       "      <td>days-like-these</td>\n",
       "      <td>2006</td>\n",
       "      <td>asia</td>\n",
       "      <td>Rock</td>\n",
       "      <td>The sun was shining The sky was crying It just...</td>\n",
       "    </tr>\n",
       "    <tr>\n",
       "      <th>213443</th>\n",
       "      <td>213443</td>\n",
       "      <td>gila</td>\n",
       "      <td>2008</td>\n",
       "      <td>beach-house</td>\n",
       "      <td>Pop</td>\n",
       "      <td>Man, you got a lot of jokes to tell So you thr...</td>\n",
       "    </tr>\n",
       "    <tr>\n",
       "      <th>16850</th>\n",
       "      <td>16850</td>\n",
       "      <td>i-believe-in-love</td>\n",
       "      <td>2007</td>\n",
       "      <td>do</td>\n",
       "      <td>Pop</td>\n",
       "      <td>You are my life you are my love Now I've found...</td>\n",
       "    </tr>\n",
       "  </tbody>\n",
       "</table>\n",
       "</div>"
      ],
      "text/plain": [
       "         index                                      song  year       artist  \\\n",
       "148472  148472                             instant-karma  2007  adolescents   \n",
       "211237  211237  it-s-so-hard-to-say-goodbye-to-yesterday  2011  boyz-ii-men   \n",
       "270367  270367                            wooden-nickels  2006         eels   \n",
       "108224  108224                            snip-snip-snip  2006  chumbawamba   \n",
       "91265    91265                         voice-of-unreason  2007    cryptopsy   \n",
       "269337  269337                    the-curse-of-nosferatu  2006       avatar   \n",
       "281954  281954                                     stars  2006    blackfoot   \n",
       "219052  219052                           days-like-these  2006         asia   \n",
       "213443  213443                                      gila  2008  beach-house   \n",
       "16850    16850                         i-believe-in-love  2007           do   \n",
       "\n",
       "        genre                                             lyrics  \n",
       "148472   Rock  Instant Karma's gonna get you Gonna knock you ...  \n",
       "211237    Pop  How do I say goodbye to what we had? The good ...  \n",
       "270367   Rock  Went down by the old courthouse Stumbling thro...  \n",
       "108224   Rock  Well madam how'd you like it, maybe plenty off...  \n",
       "91265   Metal  Ossuary for the misinformed You´d end up being...  \n",
       "269337  Metal  The night is our day, the darkness is our ligh...  \n",
       "281954   Rock  The time has come for me to say Things I shoul...  \n",
       "219052   Rock  The sun was shining The sky was crying It just...  \n",
       "213443    Pop  Man, you got a lot of jokes to tell So you thr...  \n",
       "16850     Pop  You are my life you are my love Now I've found...  "
      ]
     },
     "execution_count": 7,
     "metadata": {},
     "output_type": "execute_result"
    }
   ],
   "source": [
    "training_50k.head(10)"
   ]
  },
  {
   "cell_type": "code",
   "execution_count": 8,
   "metadata": {
    "collapsed": true
   },
   "outputs": [],
   "source": [
    "training_genre_lyrics = training_50k.filter([ 'genre', 'lyrics'])\n",
    "validation_genre_lyrics = validation_50k.filter(['genre', 'lyrics'])\n",
    "testing_genre_lyrics = testing_50k.filter(['genre', 'lyrics'])"
   ]
  },
  {
   "cell_type": "code",
   "execution_count": 9,
   "metadata": {},
   "outputs": [
    {
     "data": {
      "text/html": [
       "<div>\n",
       "<style>\n",
       "    .dataframe thead tr:only-child th {\n",
       "        text-align: right;\n",
       "    }\n",
       "\n",
       "    .dataframe thead th {\n",
       "        text-align: left;\n",
       "    }\n",
       "\n",
       "    .dataframe tbody tr th {\n",
       "        vertical-align: top;\n",
       "    }\n",
       "</style>\n",
       "<table border=\"1\" class=\"dataframe\">\n",
       "  <thead>\n",
       "    <tr style=\"text-align: right;\">\n",
       "      <th></th>\n",
       "      <th>genre</th>\n",
       "      <th>lyrics</th>\n",
       "    </tr>\n",
       "  </thead>\n",
       "  <tbody>\n",
       "    <tr>\n",
       "      <th>148472</th>\n",
       "      <td>Rock</td>\n",
       "      <td>Instant Karma's gonna get you Gonna knock you ...</td>\n",
       "    </tr>\n",
       "    <tr>\n",
       "      <th>211237</th>\n",
       "      <td>Pop</td>\n",
       "      <td>How do I say goodbye to what we had? The good ...</td>\n",
       "    </tr>\n",
       "    <tr>\n",
       "      <th>270367</th>\n",
       "      <td>Rock</td>\n",
       "      <td>Went down by the old courthouse Stumbling thro...</td>\n",
       "    </tr>\n",
       "    <tr>\n",
       "      <th>108224</th>\n",
       "      <td>Rock</td>\n",
       "      <td>Well madam how'd you like it, maybe plenty off...</td>\n",
       "    </tr>\n",
       "    <tr>\n",
       "      <th>91265</th>\n",
       "      <td>Metal</td>\n",
       "      <td>Ossuary for the misinformed You´d end up being...</td>\n",
       "    </tr>\n",
       "  </tbody>\n",
       "</table>\n",
       "</div>"
      ],
      "text/plain": [
       "        genre                                             lyrics\n",
       "148472   Rock  Instant Karma's gonna get you Gonna knock you ...\n",
       "211237    Pop  How do I say goodbye to what we had? The good ...\n",
       "270367   Rock  Went down by the old courthouse Stumbling thro...\n",
       "108224   Rock  Well madam how'd you like it, maybe plenty off...\n",
       "91265   Metal  Ossuary for the misinformed You´d end up being..."
      ]
     },
     "execution_count": 9,
     "metadata": {},
     "output_type": "execute_result"
    }
   ],
   "source": [
    "training_genre_lyrics.head()"
   ]
  },
  {
   "cell_type": "code",
   "execution_count": 10,
   "metadata": {},
   "outputs": [
    {
     "data": {
      "text/plain": [
       "Rock          22636\n",
       "Pop            8265\n",
       "Hip-Hop        5151\n",
       "Metal          4828\n",
       "Country        2988\n",
       "Electronic     1655\n",
       "Jazz           1645\n",
       "Other           998\n",
       "R&B             753\n",
       "Indie           624\n",
       "Folk            457\n",
       "Name: genre, dtype: int64"
      ]
     },
     "execution_count": 10,
     "metadata": {},
     "output_type": "execute_result"
    }
   ],
   "source": [
    "training_genre_lyrics['genre'].value_counts()"
   ]
  },
  {
   "cell_type": "code",
   "execution_count": 11,
   "metadata": {
    "collapsed": true
   },
   "outputs": [],
   "source": [
    "#goes thru training set and append genre pop's lyrics\n",
    "pop_lyrics = []\n",
    "for x in training_genre_lyrics.iterrows():\n",
    "    if x[1][0] == 'Pop':\n",
    "        pop_lyrics.append(x[1][1])\n",
    "print (len(pop_lyrics))"
   ]
  },
  {
   "cell_type": "code",
   "execution_count": 30,
   "metadata": {},
   "outputs": [],
   "source": [
    "rock_lyrics = []\n",
    "for x in training_genre_lyrics.iterrows():\n",
    "    if x[1][0] == 'Rock':\n",
    "        rock_lyrics.append(x[1][1])\n",
    "print (len(rock_lyrics))"
   ]
  },
  {
   "cell_type": "code",
   "execution_count": 28,
   "metadata": {
    "collapsed": true
   },
   "outputs": [],
   "source": [
    "elec_lyrics = []\n",
    "for x in training_genre_lyrics.iterrows():\n",
    "    if x[1][0] == 'Electronic':\n",
    "        elec_lyrics.append(x[1][1])\n",
    "print (len(elec_lyrics))"
   ]
  },
  {
   "cell_type": "code",
   "execution_count": 14,
   "metadata": {
    "collapsed": true
   },
   "outputs": [],
   "source": [
    "other_lyrics = []\n",
    "for x in training_genre_lyrics.iterrows():\n",
    "    if x[1][0] == 'Other':\n",
    "        other_lyrics.append(x[1][1])\n",
    "print (len(other_lyrics))"
   ]
  },
  {
   "cell_type": "code",
   "execution_count": 21,
   "metadata": {
    "collapsed": true
   },
   "outputs": [],
   "source": [
    "hiphop_lyrics = []\n",
    "for x in training_genre_lyrics.iterrows():\n",
    "    if x[1][0] == 'Hip-Hop':\n",
    "        hiphop_lyrics.append(x[1][1])\n",
    "print (len(hiphop_lyrics))"
   ]
  },
  {
   "cell_type": "code",
   "execution_count": 23,
   "metadata": {
    "collapsed": true
   },
   "outputs": [],
   "source": [
    "metal_lyrics = []\n",
    "for x in training_genre_lyrics.iterrows():\n",
    "    if x[1][0] == 'Metal':\n",
    "        metal_lyrics.append(x[1][1])\n",
    "print (len(metal_lyrics))"
   ]
  },
  {
   "cell_type": "code",
   "execution_count": 25,
   "metadata": {
    "collapsed": true
   },
   "outputs": [],
   "source": [
    "country_lyrics = []\n",
    "for x in training_genre_lyrics.iterrows():\n",
    "    if x[1][0] == 'Country':\n",
    "        country_lyrics.append(x[1][1])\n",
    "print (len(country_lyrics))"
   ]
  },
  {
   "cell_type": "code",
   "execution_count": 32,
   "metadata": {},
   "outputs": [
    {
     "name": "stdout",
     "output_type": "stream",
     "text": [
      "1645\n"
     ]
    }
   ],
   "source": [
    "jazz_lyrics = []\n",
    "for x in training_genre_lyrics.iterrows():\n",
    "    if x[1][0] == 'Jazz':\n",
    "        jazz_lyrics.append(x[1][1])\n",
    "print (len(jazz_lyrics))"
   ]
  },
  {
   "cell_type": "code",
   "execution_count": 33,
   "metadata": {},
   "outputs": [
    {
     "name": "stdout",
     "output_type": "stream",
     "text": [
      "753\n"
     ]
    }
   ],
   "source": [
    "rb_lyrics = []\n",
    "for x in training_genre_lyrics.iterrows():\n",
    "    if x[1][0] == 'R&B':\n",
    "        rb_lyrics.append(x[1][1])\n",
    "print (len(rb_lyrics))"
   ]
  },
  {
   "cell_type": "code",
   "execution_count": 34,
   "metadata": {},
   "outputs": [
    {
     "name": "stdout",
     "output_type": "stream",
     "text": [
      "624\n"
     ]
    }
   ],
   "source": [
    "indie_lyrics = []\n",
    "for x in training_genre_lyrics.iterrows():\n",
    "    if x[1][0] == 'Indie':\n",
    "        indie_lyrics.append(x[1][1])\n",
    "print (len(indie_lyrics))"
   ]
  },
  {
   "cell_type": "code",
   "execution_count": 35,
   "metadata": {},
   "outputs": [
    {
     "name": "stdout",
     "output_type": "stream",
     "text": [
      "457\n"
     ]
    }
   ],
   "source": [
    "folk_lyrics = []\n",
    "for x in training_genre_lyrics.iterrows():\n",
    "    if x[1][0] == 'Folk':\n",
    "        folk_lyrics.append(x[1][1])\n",
    "print (len(folk_lyrics))"
   ]
  },
  {
   "cell_type": "code",
   "execution_count": 31,
   "metadata": {},
   "outputs": [
    {
     "name": "stdout",
     "output_type": "stream",
     "text": [
      "1655\n"
     ]
    }
   ],
   "source": [
    "print (len(elec_lyrics))"
   ]
  },
  {
   "cell_type": "code",
   "execution_count": 12,
   "metadata": {},
   "outputs": [
    {
     "data": {
      "text/plain": [
       "CountVectorizer(analyzer='word', binary=False, decode_error='strict',\n",
       "        dtype=<class 'numpy.int64'>, encoding='utf-8', input='content',\n",
       "        lowercase=True, max_df=0.5, max_features=None, min_df=1,\n",
       "        ngram_range=(1, 3), preprocessor=None, stop_words=None,\n",
       "        strip_accents=None, token_pattern='(?u)\\\\b\\\\w\\\\w+\\\\b',\n",
       "        tokenizer=None, vocabulary=None)"
      ]
     },
     "execution_count": 12,
     "metadata": {},
     "output_type": "execute_result"
    }
   ],
   "source": [
    "from sklearn.feature_extraction.text import CountVectorizer\n",
    "from sklearn.feature_extraction.text import TfidfTransformer\n",
    "\n",
    "cvec = CountVectorizer(min_df=1, max_df=.5, ngram_range=(1,3))\n",
    "cvec"
   ]
  },
  {
   "cell_type": "code",
   "execution_count": 13,
   "metadata": {},
   "outputs": [
    {
     "data": {
      "text/plain": [
       "261925    i say, baby, we been talkin for a while and i ...\n",
       "315247    i'v gone from everyth to nothin you'v gone fro...\n",
       "126273    let us pray lord jesus, it is you who wake me ...\n",
       "172732    i wish that this world was one world i wish th...\n",
       "193872    i never much believ in reincarn thought it was...\n",
       "Name: stemmed, dtype: object"
      ]
     },
     "execution_count": 13,
     "metadata": {},
     "output_type": "execute_result"
    }
   ],
   "source": [
    "from nltk.stem.snowball import SnowballStemmer\n",
    "stemmer = SnowballStemmer(\"english\")\n",
    "training_genre_lyrics['stemmed'] = training_genre_lyrics.lyrics.map(lambda x: ' '.join([stemmer.stem(y) for y in x.split(' ')]))\n",
    "training_genre_lyrics.stemmed.head()"
   ]
  },
  {
   "cell_type": "code",
   "execution_count": 14,
   "metadata": {},
   "outputs": [
    {
     "data": {
      "text/plain": [
       "[('say', 4331140),\n",
       " ('baby', 422540),\n",
       " ('we', 5770860),\n",
       " ('been', 523248),\n",
       " ('talkin', 4896635),\n",
       " ('while', 5881584),\n",
       " ('don', 1331899),\n",
       " ('know', 2709729),\n",
       " ('how', 2336746),\n",
       " ('this', 5246660),\n",
       " ('so', 4598447),\n",
       " ('take', 4881930),\n",
       " ('time', 5320041),\n",
       " ('see', 4382586),\n",
       " ('touchi', 5454015),\n",
       " ('subject', 4818927),\n",
       " ('bout', 673672),\n",
       " ('explain', 1577495),\n",
       " ('speakin', 4699702),\n",
       " ('touch', 5451451)]"
      ]
     },
     "execution_count": 14,
     "metadata": {},
     "output_type": "execute_result"
    }
   ],
   "source": [
    "from itertools import islice\n",
    "cvec.fit(training_genre_lyrics.stemmed)\n",
    "list(islice(cvec.vocabulary_.items(), 20))"
   ]
  },
  {
   "cell_type": "code",
   "execution_count": 15,
   "metadata": {},
   "outputs": [
    {
     "data": {
      "text/plain": [
       "6256472"
      ]
     },
     "execution_count": 15,
     "metadata": {},
     "output_type": "execute_result"
    }
   ],
   "source": [
    "len(cvec.vocabulary_)"
   ]
  },
  {
   "cell_type": "code",
   "execution_count": 16,
   "metadata": {},
   "outputs": [
    {
     "name": "stdout",
     "output_type": "stream",
     "text": [
      "sparse matrix shape: (50000, 6256472)\n",
      "nonzero count: 19464306\n",
      "sparsity: 0.01%\n"
     ]
    }
   ],
   "source": [
    "cvec_counts = cvec.transform(training_genre_lyrics.stemmed)\n",
    "print('sparse matrix shape:', cvec_counts.shape)\n",
    "print('nonzero count:', cvec_counts.nnz)\n",
    "print('sparsity: %.2f%%' % (100.0 * cvec_counts.nnz / (cvec_counts.shape[0] * cvec_counts.shape[1])))"
   ]
  },
  {
   "cell_type": "code",
   "execution_count": 17,
   "metadata": {},
   "outputs": [
    {
     "data": {
      "text/html": [
       "<div>\n",
       "<style>\n",
       "    .dataframe thead tr:only-child th {\n",
       "        text-align: right;\n",
       "    }\n",
       "\n",
       "    .dataframe thead th {\n",
       "        text-align: left;\n",
       "    }\n",
       "\n",
       "    .dataframe tbody tr th {\n",
       "        vertical-align: top;\n",
       "    }\n",
       "</style>\n",
       "<table border=\"1\" class=\"dataframe\">\n",
       "  <thead>\n",
       "    <tr style=\"text-align: right;\">\n",
       "      <th></th>\n",
       "      <th>occurrences</th>\n",
       "      <th>term</th>\n",
       "    </tr>\n",
       "  </thead>\n",
       "  <tbody>\n",
       "    <tr>\n",
       "      <th>5770860</th>\n",
       "      <td>93074</td>\n",
       "      <td>we</td>\n",
       "    </tr>\n",
       "    <tr>\n",
       "      <th>806539</th>\n",
       "      <td>73146</td>\n",
       "      <td>can</td>\n",
       "    </tr>\n",
       "    <tr>\n",
       "      <th>4598447</th>\n",
       "      <td>66878</td>\n",
       "      <td>so</td>\n",
       "    </tr>\n",
       "    <tr>\n",
       "      <th>2981072</th>\n",
       "      <td>66817</td>\n",
       "      <td>love</td>\n",
       "    </tr>\n",
       "    <tr>\n",
       "      <th>2709729</th>\n",
       "      <td>64560</td>\n",
       "      <td>know</td>\n",
       "    </tr>\n",
       "    <tr>\n",
       "      <th>1331899</th>\n",
       "      <td>63825</td>\n",
       "      <td>don</td>\n",
       "    </tr>\n",
       "    <tr>\n",
       "      <th>3518233</th>\n",
       "      <td>62659</td>\n",
       "      <td>no</td>\n",
       "    </tr>\n",
       "    <tr>\n",
       "      <th>2855361</th>\n",
       "      <td>61792</td>\n",
       "      <td>like</td>\n",
       "    </tr>\n",
       "    <tr>\n",
       "      <th>5949679</th>\n",
       "      <td>61714</td>\n",
       "      <td>with</td>\n",
       "    </tr>\n",
       "    <tr>\n",
       "      <th>748241</th>\n",
       "      <td>61059</td>\n",
       "      <td>but</td>\n",
       "    </tr>\n",
       "    <tr>\n",
       "      <th>5246660</th>\n",
       "      <td>56795</td>\n",
       "      <td>this</td>\n",
       "    </tr>\n",
       "    <tr>\n",
       "      <th>5835870</th>\n",
       "      <td>54924</td>\n",
       "      <td>what</td>\n",
       "    </tr>\n",
       "    <tr>\n",
       "      <th>5584715</th>\n",
       "      <td>54650</td>\n",
       "      <td>up</td>\n",
       "    </tr>\n",
       "    <tr>\n",
       "      <th>2634549</th>\n",
       "      <td>53178</td>\n",
       "      <td>just</td>\n",
       "    </tr>\n",
       "    <tr>\n",
       "      <th>5851823</th>\n",
       "      <td>49766</td>\n",
       "      <td>when</td>\n",
       "    </tr>\n",
       "    <tr>\n",
       "      <th>1897956</th>\n",
       "      <td>49099</td>\n",
       "      <td>get</td>\n",
       "    </tr>\n",
       "    <tr>\n",
       "      <th>1304894</th>\n",
       "      <td>45631</td>\n",
       "      <td>do</td>\n",
       "    </tr>\n",
       "    <tr>\n",
       "      <th>3686621</th>\n",
       "      <td>44806</td>\n",
       "      <td>oh</td>\n",
       "    </tr>\n",
       "    <tr>\n",
       "      <th>2922032</th>\n",
       "      <td>44577</td>\n",
       "      <td>ll</td>\n",
       "    </tr>\n",
       "    <tr>\n",
       "      <th>2006365</th>\n",
       "      <td>44041</td>\n",
       "      <td>got</td>\n",
       "    </tr>\n",
       "  </tbody>\n",
       "</table>\n",
       "</div>"
      ],
      "text/plain": [
       "         occurrences  term\n",
       "5770860        93074    we\n",
       "806539         73146   can\n",
       "4598447        66878    so\n",
       "2981072        66817  love\n",
       "2709729        64560  know\n",
       "1331899        63825   don\n",
       "3518233        62659    no\n",
       "2855361        61792  like\n",
       "5949679        61714  with\n",
       "748241         61059   but\n",
       "5246660        56795  this\n",
       "5835870        54924  what\n",
       "5584715        54650    up\n",
       "2634549        53178  just\n",
       "5851823        49766  when\n",
       "1897956        49099   get\n",
       "1304894        45631    do\n",
       "3686621        44806    oh\n",
       "2922032        44577    ll\n",
       "2006365        44041   got"
      ]
     },
     "execution_count": 17,
     "metadata": {},
     "output_type": "execute_result"
    }
   ],
   "source": [
    "occ = np.asarray(cvec_counts.sum(axis=0)).ravel().tolist()\n",
    "counts_df = pd.DataFrame({'term': cvec.get_feature_names(), 'occurrences': occ})\n",
    "counts_df.sort_values(by='occurrences', ascending=False).head(20)"
   ]
  },
  {
   "cell_type": "code",
   "execution_count": 18,
   "metadata": {},
   "outputs": [
    {
     "data": {
      "text/plain": [
       "<50000x6256472 sparse matrix of type '<class 'numpy.float64'>'\n",
       "\twith 19464306 stored elements in Compressed Sparse Row format>"
      ]
     },
     "execution_count": 18,
     "metadata": {},
     "output_type": "execute_result"
    }
   ],
   "source": [
    "transformer = TfidfTransformer()\n",
    "transformed_weights = transformer.fit_transform(cvec_counts)\n",
    "transformed_weights"
   ]
  },
  {
   "cell_type": "code",
   "execution_count": 19,
   "metadata": {},
   "outputs": [
    {
     "data": {
      "text/html": [
       "<div>\n",
       "<style>\n",
       "    .dataframe thead tr:only-child th {\n",
       "        text-align: right;\n",
       "    }\n",
       "\n",
       "    .dataframe thead th {\n",
       "        text-align: left;\n",
       "    }\n",
       "\n",
       "    .dataframe tbody tr th {\n",
       "        vertical-align: top;\n",
       "    }\n",
       "</style>\n",
       "<table border=\"1\" class=\"dataframe\">\n",
       "  <thead>\n",
       "    <tr style=\"text-align: right;\">\n",
       "      <th></th>\n",
       "      <th>term</th>\n",
       "      <th>weight</th>\n",
       "    </tr>\n",
       "  </thead>\n",
       "  <tbody>\n",
       "    <tr>\n",
       "      <th>5770860</th>\n",
       "      <td>we</td>\n",
       "      <td>0.011773</td>\n",
       "    </tr>\n",
       "    <tr>\n",
       "      <th>2981072</th>\n",
       "      <td>love</td>\n",
       "      <td>0.009618</td>\n",
       "    </tr>\n",
       "    <tr>\n",
       "      <th>806539</th>\n",
       "      <td>can</td>\n",
       "      <td>0.008836</td>\n",
       "    </tr>\n",
       "    <tr>\n",
       "      <th>1331899</th>\n",
       "      <td>don</td>\n",
       "      <td>0.008330</td>\n",
       "    </tr>\n",
       "    <tr>\n",
       "      <th>2709729</th>\n",
       "      <td>know</td>\n",
       "      <td>0.008134</td>\n",
       "    </tr>\n",
       "    <tr>\n",
       "      <th>4598447</th>\n",
       "      <td>so</td>\n",
       "      <td>0.008093</td>\n",
       "    </tr>\n",
       "    <tr>\n",
       "      <th>3518233</th>\n",
       "      <td>no</td>\n",
       "      <td>0.007946</td>\n",
       "    </tr>\n",
       "    <tr>\n",
       "      <th>748241</th>\n",
       "      <td>but</td>\n",
       "      <td>0.007582</td>\n",
       "    </tr>\n",
       "    <tr>\n",
       "      <th>2855361</th>\n",
       "      <td>like</td>\n",
       "      <td>0.007519</td>\n",
       "    </tr>\n",
       "    <tr>\n",
       "      <th>5246660</th>\n",
       "      <td>this</td>\n",
       "      <td>0.007493</td>\n",
       "    </tr>\n",
       "    <tr>\n",
       "      <th>5949679</th>\n",
       "      <td>with</td>\n",
       "      <td>0.007482</td>\n",
       "    </tr>\n",
       "    <tr>\n",
       "      <th>2475299</th>\n",
       "      <td>instrument</td>\n",
       "      <td>0.007425</td>\n",
       "    </tr>\n",
       "    <tr>\n",
       "      <th>4447576</th>\n",
       "      <td>she</td>\n",
       "      <td>0.007317</td>\n",
       "    </tr>\n",
       "    <tr>\n",
       "      <th>5835870</th>\n",
       "      <td>what</td>\n",
       "      <td>0.007270</td>\n",
       "    </tr>\n",
       "    <tr>\n",
       "      <th>2634549</th>\n",
       "      <td>just</td>\n",
       "      <td>0.006991</td>\n",
       "    </tr>\n",
       "    <tr>\n",
       "      <th>2922032</th>\n",
       "      <td>ll</td>\n",
       "      <td>0.006904</td>\n",
       "    </tr>\n",
       "    <tr>\n",
       "      <th>3686621</th>\n",
       "      <td>oh</td>\n",
       "      <td>0.006800</td>\n",
       "    </tr>\n",
       "    <tr>\n",
       "      <th>5851823</th>\n",
       "      <td>when</td>\n",
       "      <td>0.006743</td>\n",
       "    </tr>\n",
       "    <tr>\n",
       "      <th>5584715</th>\n",
       "      <td>up</td>\n",
       "      <td>0.006682</td>\n",
       "    </tr>\n",
       "    <tr>\n",
       "      <th>1897956</th>\n",
       "      <td>get</td>\n",
       "      <td>0.006380</td>\n",
       "    </tr>\n",
       "    <tr>\n",
       "      <th>1304894</th>\n",
       "      <td>do</td>\n",
       "      <td>0.006346</td>\n",
       "    </tr>\n",
       "    <tr>\n",
       "      <th>5208300</th>\n",
       "      <td>they</td>\n",
       "      <td>0.006307</td>\n",
       "    </tr>\n",
       "    <tr>\n",
       "      <th>3584341</th>\n",
       "      <td>now</td>\n",
       "      <td>0.006177</td>\n",
       "    </tr>\n",
       "    <tr>\n",
       "      <th>2475600</th>\n",
       "      <td>instrumental</td>\n",
       "      <td>0.006079</td>\n",
       "    </tr>\n",
       "    <tr>\n",
       "      <th>1953020</th>\n",
       "      <td>go</td>\n",
       "      <td>0.006063</td>\n",
       "    </tr>\n",
       "    <tr>\n",
       "      <th>2006365</th>\n",
       "      <td>got</td>\n",
       "      <td>0.006042</td>\n",
       "    </tr>\n",
       "    <tr>\n",
       "      <th>2155239</th>\n",
       "      <td>he</td>\n",
       "      <td>0.006027</td>\n",
       "    </tr>\n",
       "    <tr>\n",
       "      <th>5187772</th>\n",
       "      <td>there</td>\n",
       "      <td>0.006014</td>\n",
       "    </tr>\n",
       "    <tr>\n",
       "      <th>5320041</th>\n",
       "      <td>time</td>\n",
       "      <td>0.005989</td>\n",
       "    </tr>\n",
       "    <tr>\n",
       "      <th>2373523</th>\n",
       "      <td>if</td>\n",
       "      <td>0.005873</td>\n",
       "    </tr>\n",
       "    <tr>\n",
       "      <th>...</th>\n",
       "      <td>...</td>\n",
       "      <td>...</td>\n",
       "    </tr>\n",
       "    <tr>\n",
       "      <th>523248</th>\n",
       "      <td>been</td>\n",
       "      <td>0.003698</td>\n",
       "    </tr>\n",
       "    <tr>\n",
       "      <th>1989234</th>\n",
       "      <td>gonna</td>\n",
       "      <td>0.003689</td>\n",
       "    </tr>\n",
       "    <tr>\n",
       "      <th>5867336</th>\n",
       "      <td>where</td>\n",
       "      <td>0.003681</td>\n",
       "    </tr>\n",
       "    <tr>\n",
       "      <th>414619</th>\n",
       "      <td>babi</td>\n",
       "      <td>0.003631</td>\n",
       "    </tr>\n",
       "    <tr>\n",
       "      <th>3279362</th>\n",
       "      <td>more</td>\n",
       "      <td>0.003587</td>\n",
       "    </tr>\n",
       "    <tr>\n",
       "      <th>4925695</th>\n",
       "      <td>tell</td>\n",
       "      <td>0.003581</td>\n",
       "    </tr>\n",
       "    <tr>\n",
       "      <th>6012267</th>\n",
       "      <td>world</td>\n",
       "      <td>0.003580</td>\n",
       "    </tr>\n",
       "    <tr>\n",
       "      <th>4084211</th>\n",
       "      <td>que</td>\n",
       "      <td>0.003573</td>\n",
       "    </tr>\n",
       "    <tr>\n",
       "      <th>922952</th>\n",
       "      <td>chorus</td>\n",
       "      <td>0.003557</td>\n",
       "    </tr>\n",
       "    <tr>\n",
       "      <th>5237589</th>\n",
       "      <td>think</td>\n",
       "      <td>0.003531</td>\n",
       "    </tr>\n",
       "    <tr>\n",
       "      <th>3664900</th>\n",
       "      <td>of the</td>\n",
       "      <td>0.003509</td>\n",
       "    </tr>\n",
       "    <tr>\n",
       "      <th>5892801</th>\n",
       "      <td>who</td>\n",
       "      <td>0.003486</td>\n",
       "    </tr>\n",
       "    <tr>\n",
       "      <th>4219433</th>\n",
       "      <td>right</td>\n",
       "      <td>0.003484</td>\n",
       "    </tr>\n",
       "    <tr>\n",
       "      <th>5400099</th>\n",
       "      <td>to the</td>\n",
       "      <td>0.003459</td>\n",
       "    </tr>\n",
       "    <tr>\n",
       "      <th>5230107</th>\n",
       "      <td>thing</td>\n",
       "      <td>0.003449</td>\n",
       "    </tr>\n",
       "    <tr>\n",
       "      <th>3057343</th>\n",
       "      <td>man</td>\n",
       "      <td>0.003425</td>\n",
       "    </tr>\n",
       "    <tr>\n",
       "      <th>5715225</th>\n",
       "      <td>want to</td>\n",
       "      <td>0.003389</td>\n",
       "    </tr>\n",
       "    <tr>\n",
       "      <th>55771</th>\n",
       "      <td>again</td>\n",
       "      <td>0.003363</td>\n",
       "    </tr>\n",
       "    <tr>\n",
       "      <th>1927799</th>\n",
       "      <td>girl</td>\n",
       "      <td>0.003349</td>\n",
       "    </tr>\n",
       "    <tr>\n",
       "      <th>5292232</th>\n",
       "      <td>through</td>\n",
       "      <td>0.003333</td>\n",
       "    </tr>\n",
       "    <tr>\n",
       "      <th>5344526</th>\n",
       "      <td>to be</td>\n",
       "      <td>0.003321</td>\n",
       "    </tr>\n",
       "    <tr>\n",
       "      <th>1937313</th>\n",
       "      <td>give</td>\n",
       "      <td>0.003294</td>\n",
       "    </tr>\n",
       "    <tr>\n",
       "      <th>2913332</th>\n",
       "      <td>live</td>\n",
       "      <td>0.003230</td>\n",
       "    </tr>\n",
       "    <tr>\n",
       "      <th>2663023</th>\n",
       "      <td>keep</td>\n",
       "      <td>0.003202</td>\n",
       "    </tr>\n",
       "    <tr>\n",
       "      <th>3787747</th>\n",
       "      <td>or</td>\n",
       "      <td>0.003185</td>\n",
       "    </tr>\n",
       "    <tr>\n",
       "      <th>6108934</th>\n",
       "      <td>you can</td>\n",
       "      <td>0.003177</td>\n",
       "    </tr>\n",
       "    <tr>\n",
       "      <th>76943</th>\n",
       "      <td>ain</td>\n",
       "      <td>0.003162</td>\n",
       "    </tr>\n",
       "    <tr>\n",
       "      <th>5435085</th>\n",
       "      <td>too</td>\n",
       "      <td>0.003156</td>\n",
       "    </tr>\n",
       "    <tr>\n",
       "      <th>2382030</th>\n",
       "      <td>if you</td>\n",
       "      <td>0.003130</td>\n",
       "    </tr>\n",
       "    <tr>\n",
       "      <th>3768251</th>\n",
       "      <td>onli</td>\n",
       "      <td>0.003128</td>\n",
       "    </tr>\n",
       "  </tbody>\n",
       "</table>\n",
       "<p>100 rows × 2 columns</p>\n",
       "</div>"
      ],
      "text/plain": [
       "                 term    weight\n",
       "5770860            we  0.011773\n",
       "2981072          love  0.009618\n",
       "806539            can  0.008836\n",
       "1331899           don  0.008330\n",
       "2709729          know  0.008134\n",
       "4598447            so  0.008093\n",
       "3518233            no  0.007946\n",
       "748241            but  0.007582\n",
       "2855361          like  0.007519\n",
       "5246660          this  0.007493\n",
       "5949679          with  0.007482\n",
       "2475299    instrument  0.007425\n",
       "4447576           she  0.007317\n",
       "5835870          what  0.007270\n",
       "2634549          just  0.006991\n",
       "2922032            ll  0.006904\n",
       "3686621            oh  0.006800\n",
       "5851823          when  0.006743\n",
       "5584715            up  0.006682\n",
       "1897956           get  0.006380\n",
       "1304894            do  0.006346\n",
       "5208300          they  0.006307\n",
       "3584341           now  0.006177\n",
       "2475600  instrumental  0.006079\n",
       "1953020            go  0.006063\n",
       "2006365           got  0.006042\n",
       "2155239            he  0.006027\n",
       "5187772         there  0.006014\n",
       "5320041          time  0.005989\n",
       "2373523            if  0.005873\n",
       "...               ...       ...\n",
       "523248           been  0.003698\n",
       "1989234         gonna  0.003689\n",
       "5867336         where  0.003681\n",
       "414619           babi  0.003631\n",
       "3279362          more  0.003587\n",
       "4925695          tell  0.003581\n",
       "6012267         world  0.003580\n",
       "4084211           que  0.003573\n",
       "922952         chorus  0.003557\n",
       "5237589         think  0.003531\n",
       "3664900        of the  0.003509\n",
       "5892801           who  0.003486\n",
       "4219433         right  0.003484\n",
       "5400099        to the  0.003459\n",
       "5230107         thing  0.003449\n",
       "3057343           man  0.003425\n",
       "5715225       want to  0.003389\n",
       "55771           again  0.003363\n",
       "1927799          girl  0.003349\n",
       "5292232       through  0.003333\n",
       "5344526         to be  0.003321\n",
       "1937313          give  0.003294\n",
       "2913332          live  0.003230\n",
       "2663023          keep  0.003202\n",
       "3787747            or  0.003185\n",
       "6108934       you can  0.003177\n",
       "76943             ain  0.003162\n",
       "5435085           too  0.003156\n",
       "2382030        if you  0.003130\n",
       "3768251          onli  0.003128\n",
       "\n",
       "[100 rows x 2 columns]"
      ]
     },
     "execution_count": 19,
     "metadata": {},
     "output_type": "execute_result"
    }
   ],
   "source": [
    "weights = np.asarray(transformed_weights.mean(axis=0)).ravel().tolist()\n",
    "weights_df = pd.DataFrame({'term': cvec.get_feature_names(), 'weight': weights})\n",
    "weights_df.sort_values(by='weight', ascending=False).head(100)"
   ]
  },
  {
   "cell_type": "code",
   "execution_count": 20,
   "metadata": {
    "collapsed": true
   },
   "outputs": [],
   "source": [
    "from sklearn.feature_extraction.text import TfidfVectorizer\n",
    "tvec = TfidfVectorizer(min_df=.0025, max_df=.1, ngram_range=(1,3))\n",
    "tvec_weights = tvec.fit_transform(training_genre_lyrics.stemmed.dropna())\n",
    "weights = np.asarray(tvec_weights.mean(axis=0)).ravel().tolist()\n",
    "weights_df = pd.DataFrame({'term': tvec.get_feature_names(), 'weight': weights})\n",
    "top_100_terms = weights_df.sort_values(by='weight', ascending=False).head(100)"
   ]
  },
  {
   "cell_type": "code",
   "execution_count": 21,
   "metadata": {
    "collapsed": true
   },
   "outputs": [],
   "source": [
    "from sklearn import preprocessing\n",
    "le = preprocessing.LabelEncoder()"
   ]
  },
  {
   "cell_type": "code",
   "execution_count": 22,
   "metadata": {
    "collapsed": true
   },
   "outputs": [],
   "source": [
    "genres = np.array(training_genre_lyrics['genre'].value_counts().keys())"
   ]
  },
  {
   "cell_type": "code",
   "execution_count": 23,
   "metadata": {},
   "outputs": [
    {
     "data": {
      "text/plain": [
       "array(['Rock', 'Pop', 'Hip-Hop', 'Metal', 'Country', 'Jazz', 'Electronic',\n",
       "       'Other', 'R&B', 'Indie', 'Folk'], dtype=object)"
      ]
     },
     "execution_count": 23,
     "metadata": {},
     "output_type": "execute_result"
    }
   ],
   "source": [
    "genres"
   ]
  },
  {
   "cell_type": "code",
   "execution_count": 24,
   "metadata": {},
   "outputs": [
    {
     "data": {
      "text/plain": [
       "LabelEncoder()"
      ]
     },
     "execution_count": 24,
     "metadata": {},
     "output_type": "execute_result"
    }
   ],
   "source": [
    "le.fit(genres)"
   ]
  },
  {
   "cell_type": "code",
   "execution_count": 25,
   "metadata": {},
   "outputs": [
    {
     "data": {
      "text/plain": [
       "array(['Country', 'Electronic', 'Folk', 'Hip-Hop', 'Indie', 'Jazz',\n",
       "       'Metal', 'Other', 'Pop', 'R&B', 'Rock'], dtype=object)"
      ]
     },
     "execution_count": 25,
     "metadata": {},
     "output_type": "execute_result"
    }
   ],
   "source": [
    "le.classes_"
   ]
  },
  {
   "cell_type": "code",
   "execution_count": 26,
   "metadata": {},
   "outputs": [
    {
     "data": {
      "text/plain": [
       "array([ 3,  0,  3, ..., 10, 10,  3])"
      ]
     },
     "execution_count": 26,
     "metadata": {},
     "output_type": "execute_result"
    }
   ],
   "source": [
    "genreId = le.transform(training_genre_lyrics['genre'])\n",
    "genreId"
   ]
  },
  {
   "cell_type": "code",
   "execution_count": 27,
   "metadata": {},
   "outputs": [
    {
     "data": {
      "text/plain": [
       "array(['Hip-Hop', 'Country', 'Hip-Hop', ..., 'Rock', 'Rock', 'Hip-Hop'], dtype=object)"
      ]
     },
     "execution_count": 27,
     "metadata": {},
     "output_type": "execute_result"
    }
   ],
   "source": [
    "le.inverse_transform(genreId)"
   ]
  },
  {
   "cell_type": "code",
   "execution_count": 28,
   "metadata": {},
   "outputs": [
    {
     "ename": "SyntaxError",
     "evalue": "unexpected EOF while parsing (<ipython-input-28-bda5049076e3>, line 3)",
     "output_type": "error",
     "traceback": [
      "\u001b[0;36m  File \u001b[0;32m\"<ipython-input-28-bda5049076e3>\"\u001b[0;36m, line \u001b[0;32m3\u001b[0m\n\u001b[0;31m    #\u001b[0m\n\u001b[0m      ^\u001b[0m\n\u001b[0;31mSyntaxError\u001b[0m\u001b[0;31m:\u001b[0m unexpected EOF while parsing\n"
     ]
    }
   ],
   "source": [
    "def feature(datum):\n",
    "    # value = datum.parse()\n",
    "    # "
   ]
  },
  {
   "cell_type": "code",
   "execution_count": null,
   "metadata": {
    "collapsed": true
   },
   "outputs": [],
   "source": [
    "from collections import defaultdict\n"
   ]
  },
  {
   "cell_type": "code",
   "execution_count": null,
   "metadata": {
    "collapsed": true
   },
   "outputs": [],
   "source": []
  }
 ],
 "metadata": {
  "kernelspec": {
   "display_name": "Python 3",
   "language": "python",
   "name": "python3"
  },
  "language_info": {
   "codemirror_mode": {
    "name": "ipython",
    "version": 3
   },
   "file_extension": ".py",
   "mimetype": "text/x-python",
   "name": "python",
   "nbconvert_exporter": "python",
   "pygments_lexer": "ipython3",
   "version": "3.6.3"
  }
 },
 "nbformat": 4,
 "nbformat_minor": 2
}

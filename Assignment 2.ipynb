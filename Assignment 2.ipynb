{
 "cells": [
  {
   "cell_type": "code",
   "execution_count": 74,
   "metadata": {
    "collapsed": true
   },
   "outputs": [],
   "source": [
    "import pandas as pd\n",
    "import numpy as np\n",
    "import math"
   ]
  },
  {
   "cell_type": "code",
   "execution_count": null,
   "metadata": {
    "collapsed": true
   },
   "outputs": [],
   "source": [
    "data = pd.read_csv(\"lyrics.csv\")"
   ]
  },
  {
   "cell_type": "code",
   "execution_count": 75,
   "metadata": {
    "collapsed": false
   },
   "outputs": [],
   "source": [
    "data = data.replace({'\\[instrumental\\]' : math.nan})\n",
    "data = data.dropna()\n",
    "data = data[data.genre != \"Not Available\"]\n",
    "data = data.replace({'\\n': ' '}, regex=True)"
   ]
  },
  {
   "cell_type": "code",
   "execution_count": 76,
   "metadata": {
    "collapsed": false
   },
   "outputs": [
    {
     "data": {
      "text/plain": [
       "242615"
      ]
     },
     "execution_count": 76,
     "metadata": {},
     "output_type": "execute_result"
    }
   ],
   "source": [
    "len(data)"
   ]
  },
  {
   "cell_type": "code",
   "execution_count": 77,
   "metadata": {
    "collapsed": false
   },
   "outputs": [
    {
     "data": {
      "text/html": [
       "<div>\n",
       "<table border=\"1\" class=\"dataframe\">\n",
       "  <thead>\n",
       "    <tr style=\"text-align: right;\">\n",
       "      <th></th>\n",
       "      <th>index</th>\n",
       "      <th>song</th>\n",
       "      <th>year</th>\n",
       "      <th>artist</th>\n",
       "      <th>genre</th>\n",
       "      <th>lyrics</th>\n",
       "    </tr>\n",
       "  </thead>\n",
       "  <tbody>\n",
       "    <tr>\n",
       "      <th>0</th>\n",
       "      <td>0</td>\n",
       "      <td>ego-remix</td>\n",
       "      <td>2009</td>\n",
       "      <td>beyonce-knowles</td>\n",
       "      <td>Pop</td>\n",
       "      <td>Oh baby, how you doing? You know I'm gonna cut...</td>\n",
       "    </tr>\n",
       "    <tr>\n",
       "      <th>1</th>\n",
       "      <td>1</td>\n",
       "      <td>then-tell-me</td>\n",
       "      <td>2009</td>\n",
       "      <td>beyonce-knowles</td>\n",
       "      <td>Pop</td>\n",
       "      <td>playin' everything so easy, it's like you seem...</td>\n",
       "    </tr>\n",
       "    <tr>\n",
       "      <th>2</th>\n",
       "      <td>2</td>\n",
       "      <td>honesty</td>\n",
       "      <td>2009</td>\n",
       "      <td>beyonce-knowles</td>\n",
       "      <td>Pop</td>\n",
       "      <td>If you search For tenderness It isn't hard to ...</td>\n",
       "    </tr>\n",
       "    <tr>\n",
       "      <th>3</th>\n",
       "      <td>3</td>\n",
       "      <td>you-are-my-rock</td>\n",
       "      <td>2009</td>\n",
       "      <td>beyonce-knowles</td>\n",
       "      <td>Pop</td>\n",
       "      <td>Oh oh oh I, oh oh oh I [Verse 1:] If I wrote a...</td>\n",
       "    </tr>\n",
       "    <tr>\n",
       "      <th>4</th>\n",
       "      <td>4</td>\n",
       "      <td>black-culture</td>\n",
       "      <td>2009</td>\n",
       "      <td>beyonce-knowles</td>\n",
       "      <td>Pop</td>\n",
       "      <td>Party the people, the people the party it's po...</td>\n",
       "    </tr>\n",
       "    <tr>\n",
       "      <th>5</th>\n",
       "      <td>5</td>\n",
       "      <td>all-i-could-do-was-cry</td>\n",
       "      <td>2009</td>\n",
       "      <td>beyonce-knowles</td>\n",
       "      <td>Pop</td>\n",
       "      <td>I heard Church bells ringing I heard A choir s...</td>\n",
       "    </tr>\n",
       "    <tr>\n",
       "      <th>6</th>\n",
       "      <td>6</td>\n",
       "      <td>once-in-a-lifetime</td>\n",
       "      <td>2009</td>\n",
       "      <td>beyonce-knowles</td>\n",
       "      <td>Pop</td>\n",
       "      <td>This is just another day that I would spend Wa...</td>\n",
       "    </tr>\n",
       "    <tr>\n",
       "      <th>7</th>\n",
       "      <td>7</td>\n",
       "      <td>waiting</td>\n",
       "      <td>2009</td>\n",
       "      <td>beyonce-knowles</td>\n",
       "      <td>Pop</td>\n",
       "      <td>Waiting, waiting, waiting, waiting Waiting, wa...</td>\n",
       "    </tr>\n",
       "    <tr>\n",
       "      <th>8</th>\n",
       "      <td>8</td>\n",
       "      <td>slow-love</td>\n",
       "      <td>2009</td>\n",
       "      <td>beyonce-knowles</td>\n",
       "      <td>Pop</td>\n",
       "      <td>[Verse 1:] I read all of the magazines while w...</td>\n",
       "    </tr>\n",
       "    <tr>\n",
       "      <th>9</th>\n",
       "      <td>9</td>\n",
       "      <td>why-don-t-you-love-me</td>\n",
       "      <td>2009</td>\n",
       "      <td>beyonce-knowles</td>\n",
       "      <td>Pop</td>\n",
       "      <td>N-n-now, honey You better sit down and look ar...</td>\n",
       "    </tr>\n",
       "  </tbody>\n",
       "</table>\n",
       "</div>"
      ],
      "text/plain": [
       "   index                    song  year           artist genre  \\\n",
       "0      0               ego-remix  2009  beyonce-knowles   Pop   \n",
       "1      1            then-tell-me  2009  beyonce-knowles   Pop   \n",
       "2      2                 honesty  2009  beyonce-knowles   Pop   \n",
       "3      3         you-are-my-rock  2009  beyonce-knowles   Pop   \n",
       "4      4           black-culture  2009  beyonce-knowles   Pop   \n",
       "5      5  all-i-could-do-was-cry  2009  beyonce-knowles   Pop   \n",
       "6      6      once-in-a-lifetime  2009  beyonce-knowles   Pop   \n",
       "7      7                 waiting  2009  beyonce-knowles   Pop   \n",
       "8      8               slow-love  2009  beyonce-knowles   Pop   \n",
       "9      9   why-don-t-you-love-me  2009  beyonce-knowles   Pop   \n",
       "\n",
       "                                              lyrics  \n",
       "0  Oh baby, how you doing? You know I'm gonna cut...  \n",
       "1  playin' everything so easy, it's like you seem...  \n",
       "2  If you search For tenderness It isn't hard to ...  \n",
       "3  Oh oh oh I, oh oh oh I [Verse 1:] If I wrote a...  \n",
       "4  Party the people, the people the party it's po...  \n",
       "5  I heard Church bells ringing I heard A choir s...  \n",
       "6  This is just another day that I would spend Wa...  \n",
       "7  Waiting, waiting, waiting, waiting Waiting, wa...  \n",
       "8  [Verse 1:] I read all of the magazines while w...  \n",
       "9  N-n-now, honey You better sit down and look ar...  "
      ]
     },
     "execution_count": 77,
     "metadata": {},
     "output_type": "execute_result"
    }
   ],
   "source": [
    "data.head(10)"
   ]
  },
  {
   "cell_type": "code",
   "execution_count": 78,
   "metadata": {
    "collapsed": true
   },
   "outputs": [],
   "source": [
    "training_50k = data.sample(n=50000, replace=True)\n",
    "validation_50k = data.sample(n=50000, replace=True)\n",
    "testing_50k = data.sample(n=50000, replace=True)"
   ]
  },
  {
   "cell_type": "code",
   "execution_count": 79,
   "metadata": {
    "collapsed": false
   },
   "outputs": [
    {
     "data": {
      "text/html": [
       "<div>\n",
       "<table border=\"1\" class=\"dataframe\">\n",
       "  <thead>\n",
       "    <tr style=\"text-align: right;\">\n",
       "      <th></th>\n",
       "      <th>index</th>\n",
       "      <th>song</th>\n",
       "      <th>year</th>\n",
       "      <th>artist</th>\n",
       "      <th>genre</th>\n",
       "      <th>lyrics</th>\n",
       "    </tr>\n",
       "  </thead>\n",
       "  <tbody>\n",
       "    <tr>\n",
       "      <th>349226</th>\n",
       "      <td>349226</td>\n",
       "      <td>cages-explicit</td>\n",
       "      <td>2016</td>\n",
       "      <td>art-of-dying</td>\n",
       "      <td>Rock</td>\n",
       "      <td>IN THIS BODY THERE'S A HEART A HEART THAT'S BE...</td>\n",
       "    </tr>\n",
       "    <tr>\n",
       "      <th>335640</th>\n",
       "      <td>335640</td>\n",
       "      <td>patterns</td>\n",
       "      <td>2009</td>\n",
       "      <td>band-of-skulls</td>\n",
       "      <td>Rock</td>\n",
       "      <td>There's one for the sorrow and two for the joy...</td>\n",
       "    </tr>\n",
       "    <tr>\n",
       "      <th>75908</th>\n",
       "      <td>75908</td>\n",
       "      <td>ram-jam-city</td>\n",
       "      <td>2006</td>\n",
       "      <td>danny-kirwan</td>\n",
       "      <td>Rock</td>\n",
       "      <td>Written by danny kirwan. Oh my girl you were d...</td>\n",
       "    </tr>\n",
       "    <tr>\n",
       "      <th>58501</th>\n",
       "      <td>58501</td>\n",
       "      <td>framed</td>\n",
       "      <td>2011</td>\n",
       "      <td>cirrha-niva</td>\n",
       "      <td>Rock</td>\n",
       "      <td>Lifeless in a matching frame with a smile for ...</td>\n",
       "    </tr>\n",
       "    <tr>\n",
       "      <th>227357</th>\n",
       "      <td>227357</td>\n",
       "      <td>here-i-go-again-instrumental</td>\n",
       "      <td>2014</td>\n",
       "      <td>ghostface-killah</td>\n",
       "      <td>Hip-Hop</td>\n",
       "      <td>Yo, I've seen Raj He been a friend for years N...</td>\n",
       "    </tr>\n",
       "    <tr>\n",
       "      <th>294621</th>\n",
       "      <td>294621</td>\n",
       "      <td>yaar-hai-tu-pyaar-hai-tu</td>\n",
       "      <td>2012</td>\n",
       "      <td>atif-aslam</td>\n",
       "      <td>Rock</td>\n",
       "      <td>yaar hai tu pyaar hai tu justaju tu aarzoo tu ...</td>\n",
       "    </tr>\n",
       "    <tr>\n",
       "      <th>45302</th>\n",
       "      <td>45302</td>\n",
       "      <td>the-long-highway</td>\n",
       "      <td>2006</td>\n",
       "      <td>dire-straits</td>\n",
       "      <td>Rock</td>\n",
       "      <td>Heard a bell being toll Before the break of da...</td>\n",
       "    </tr>\n",
       "    <tr>\n",
       "      <th>24448</th>\n",
       "      <td>24448</td>\n",
       "      <td>clean</td>\n",
       "      <td>2015</td>\n",
       "      <td>big-data</td>\n",
       "      <td>Electronic</td>\n",
       "      <td>When I look back, I see trails of myself. Coul...</td>\n",
       "    </tr>\n",
       "    <tr>\n",
       "      <th>185008</th>\n",
       "      <td>185008</td>\n",
       "      <td>lady-sweet</td>\n",
       "      <td>2008</td>\n",
       "      <td>big-star</td>\n",
       "      <td>Rock</td>\n",
       "      <td>Lady Sweet, I declare That you're the troubled...</td>\n",
       "    </tr>\n",
       "    <tr>\n",
       "      <th>14244</th>\n",
       "      <td>14244</td>\n",
       "      <td>the-last-scene-of-struggling</td>\n",
       "      <td>2006</td>\n",
       "      <td>finger-eleven</td>\n",
       "      <td>Rock</td>\n",
       "      <td>The static grows and kills the message Unclear...</td>\n",
       "    </tr>\n",
       "  </tbody>\n",
       "</table>\n",
       "</div>"
      ],
      "text/plain": [
       "         index                          song  year            artist  \\\n",
       "349226  349226                cages-explicit  2016      art-of-dying   \n",
       "335640  335640                      patterns  2009    band-of-skulls   \n",
       "75908    75908                  ram-jam-city  2006      danny-kirwan   \n",
       "58501    58501                        framed  2011       cirrha-niva   \n",
       "227357  227357  here-i-go-again-instrumental  2014  ghostface-killah   \n",
       "294621  294621      yaar-hai-tu-pyaar-hai-tu  2012        atif-aslam   \n",
       "45302    45302              the-long-highway  2006      dire-straits   \n",
       "24448    24448                         clean  2015          big-data   \n",
       "185008  185008                    lady-sweet  2008          big-star   \n",
       "14244    14244  the-last-scene-of-struggling  2006     finger-eleven   \n",
       "\n",
       "             genre                                             lyrics  \n",
       "349226        Rock  IN THIS BODY THERE'S A HEART A HEART THAT'S BE...  \n",
       "335640        Rock  There's one for the sorrow and two for the joy...  \n",
       "75908         Rock  Written by danny kirwan. Oh my girl you were d...  \n",
       "58501         Rock  Lifeless in a matching frame with a smile for ...  \n",
       "227357     Hip-Hop  Yo, I've seen Raj He been a friend for years N...  \n",
       "294621        Rock  yaar hai tu pyaar hai tu justaju tu aarzoo tu ...  \n",
       "45302         Rock  Heard a bell being toll Before the break of da...  \n",
       "24448   Electronic  When I look back, I see trails of myself. Coul...  \n",
       "185008        Rock  Lady Sweet, I declare That you're the troubled...  \n",
       "14244         Rock  The static grows and kills the message Unclear...  "
      ]
     },
     "execution_count": 79,
     "metadata": {},
     "output_type": "execute_result"
    }
   ],
   "source": [
    "training_50k.head(10)"
   ]
  },
  {
   "cell_type": "code",
   "execution_count": 80,
   "metadata": {
    "collapsed": false
   },
   "outputs": [],
   "source": [
    "training_genre_lyrics = training_50k.filter([ 'genre', 'lyrics'])\n",
    "validation_genre_lyrics = validation_50k.filter(['genre', 'lyrics'])\n",
    "testing_genre_lyrics = testing_50k.filter(['genre', 'lyrics'])"
   ]
  },
  {
   "cell_type": "code",
   "execution_count": 81,
   "metadata": {
    "collapsed": false
   },
   "outputs": [
    {
     "data": {
      "text/html": [
       "<div>\n",
       "<table border=\"1\" class=\"dataframe\">\n",
       "  <thead>\n",
       "    <tr style=\"text-align: right;\">\n",
       "      <th></th>\n",
       "      <th>genre</th>\n",
       "      <th>lyrics</th>\n",
       "    </tr>\n",
       "  </thead>\n",
       "  <tbody>\n",
       "    <tr>\n",
       "      <th>158198</th>\n",
       "      <td>Rock</td>\n",
       "      <td>I am yours. However distant you may be, There ...</td>\n",
       "    </tr>\n",
       "    <tr>\n",
       "      <th>29626</th>\n",
       "      <td>Country</td>\n",
       "      <td>MUST YOU THROW DIRT IN MY FACE (Bill Anderson)...</td>\n",
       "    </tr>\n",
       "    <tr>\n",
       "      <th>162772</th>\n",
       "      <td>Hip-Hop</td>\n",
       "      <td>Intro: When the bartender fuck your drink up I...</td>\n",
       "    </tr>\n",
       "    <tr>\n",
       "      <th>89746</th>\n",
       "      <td>Rock</td>\n",
       "      <td>It's Real Life (It's Real Life) It's Real Life...</td>\n",
       "    </tr>\n",
       "    <tr>\n",
       "      <th>320003</th>\n",
       "      <td>Rock</td>\n",
       "      <td>Second Street and Broadway Sittin' in a doorwa...</td>\n",
       "    </tr>\n",
       "  </tbody>\n",
       "</table>\n",
       "</div>"
      ],
      "text/plain": [
       "          genre                                             lyrics\n",
       "158198     Rock  I am yours. However distant you may be, There ...\n",
       "29626   Country  MUST YOU THROW DIRT IN MY FACE (Bill Anderson)...\n",
       "162772  Hip-Hop  Intro: When the bartender fuck your drink up I...\n",
       "89746      Rock  It's Real Life (It's Real Life) It's Real Life...\n",
       "320003     Rock  Second Street and Broadway Sittin' in a doorwa..."
      ]
     },
     "execution_count": 81,
     "metadata": {},
     "output_type": "execute_result"
    }
   ],
   "source": [
    "testing_genre_lyrics.head()"
   ]
  },
  {
   "cell_type": "code",
   "execution_count": 82,
   "metadata": {
    "collapsed": false
   },
   "outputs": [
    {
     "data": {
      "text/plain": [
       "50000"
      ]
     },
     "execution_count": 82,
     "metadata": {},
     "output_type": "execute_result"
    }
   ],
   "source": [
    "len(genre_lyrics_sample)"
   ]
  },
  {
   "cell_type": "code",
   "execution_count": 83,
   "metadata": {
    "collapsed": false
   },
   "outputs": [
    {
     "data": {
      "text/plain": [
       "Rock          22495\n",
       "Pop            8359\n",
       "Metal          5019\n",
       "Hip-Hop        4921\n",
       "Country        3019\n",
       "Jazz           1735\n",
       "Electronic     1616\n",
       "Other          1037\n",
       "R&B             702\n",
       "Indie           650\n",
       "Folk            447\n",
       "Name: genre, dtype: int64"
      ]
     },
     "execution_count": 83,
     "metadata": {},
     "output_type": "execute_result"
    }
   ],
   "source": [
    "genre_lyrics_sample['genre'].value_counts()"
   ]
  },
  {
   "cell_type": "code",
   "execution_count": null,
   "metadata": {
    "collapsed": false
   },
   "outputs": [],
   "source": []
  },
  {
   "cell_type": "code",
   "execution_count": null,
   "metadata": {
    "collapsed": true
   },
   "outputs": [],
   "source": []
  }
 ],
 "metadata": {
  "kernelspec": {
   "display_name": "Python 3",
   "language": "python",
   "name": "python3"
  },
  "language_info": {
   "codemirror_mode": {
    "name": "ipython",
    "version": 3
   },
   "file_extension": ".py",
   "mimetype": "text/x-python",
   "name": "python",
   "nbconvert_exporter": "python",
   "pygments_lexer": "ipython3",
   "version": "3.6.0"
  }
 },
 "nbformat": 4,
 "nbformat_minor": 2
}
